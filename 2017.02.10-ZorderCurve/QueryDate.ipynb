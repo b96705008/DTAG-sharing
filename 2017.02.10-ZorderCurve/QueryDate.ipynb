{
 "cells": [
  {
   "cell_type": "code",
   "execution_count": 1,
   "metadata": {
    "collapsed": true
   },
   "outputs": [],
   "source": [
    "login_date = [3, 5, 6, 7, 8, 16, 22, 25, 28]\n",
    "now_date = range(11, 21, 1)"
   ]
  },
  {
   "cell_type": "code",
   "execution_count": 2,
   "metadata": {
    "collapsed": false
   },
   "outputs": [
    {
     "name": "stdout",
     "output_type": "stream",
     "text": [
      "yes! 65536\n"
     ]
    }
   ],
   "source": [
    "value = 0\n",
    "for i in login_date:\n",
    "    is_break = False\n",
    "\n",
    "    for j in now_date:\n",
    "        value += (2**i) & (2**j)\n",
    "        \n",
    "        if value > 0:\n",
    "            is_break = True\n",
    "            print \"yes!\", value\n",
    "            break\n",
    "        \n",
    "    if is_break:\n",
    "        break"
   ]
  },
  {
   "cell_type": "code",
   "execution_count": 3,
   "metadata": {
    "collapsed": false
   },
   "outputs": [
    {
     "name": "stdout",
     "output_type": "stream",
     "text": [
      "306250216 2095104 65536\n"
     ]
    }
   ],
   "source": [
    "login_date_binary = 0\n",
    "for date in login_date:\n",
    "    login_date_binary |= 2**date\n",
    "    \n",
    "now_date_binary = 0\n",
    "for date in now_date:\n",
    "    now_date_binary |= 2**date\n",
    "    \n",
    "print login_date_binary, now_date_binary, login_date_binary & now_date_binary"
   ]
  },
  {
   "cell_type": "code",
   "execution_count": null,
   "metadata": {
    "collapsed": true
   },
   "outputs": [],
   "source": []
  }
 ],
 "metadata": {
  "kernelspec": {
   "display_name": "Python [conda root]",
   "language": "python",
   "name": "conda-root-py"
  },
  "language_info": {
   "codemirror_mode": {
    "name": "ipython",
    "version": 2
   },
   "file_extension": ".py",
   "mimetype": "text/x-python",
   "name": "python",
   "nbconvert_exporter": "python",
   "pygments_lexer": "ipython2",
   "version": "2.7.12"
  }
 },
 "nbformat": 4,
 "nbformat_minor": 1
}
