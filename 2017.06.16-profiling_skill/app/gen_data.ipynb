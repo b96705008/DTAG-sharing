{
 "cells": [
  {
   "cell_type": "code",
   "execution_count": 1,
   "metadata": {
    "collapsed": true
   },
   "outputs": [],
   "source": [
    "import time\n",
    "\n",
    "import string\n",
    "import random"
   ]
  },
  {
   "cell_type": "code",
   "execution_count": 83,
   "metadata": {
    "collapsed": false
   },
   "outputs": [],
   "source": [
    "event_all = [\"\".join([random.choice(string.uppercase) for idx in range(6)]) for _ in range(512)]"
   ]
  },
  {
   "cell_type": "code",
   "execution_count": 129,
   "metadata": {
    "collapsed": false
   },
   "outputs": [],
   "source": [
    "groups = [305, 150, 400, 140, 5]\n",
    "events = [event_all[:groups[0]/2], \n",
    "          event_all[groups[0]/2:np.sum(groups[i] for i in range(0, 2))/2], \n",
    "          event_all[np.sum(groups[i] for i in range(0, 2))/2:np.sum(groups[i] for i in range(0, 3))/2], \n",
    "          event_all[np.sum(groups[i] for i in range(0, 3))/2:np.sum(groups[i] for i in range(0, 4))/2], \n",
    "          event_all[np.sum(groups[i] for i in range(0, 4))/2:np.sum(groups[i] for i in range(0, 5))/2], \n",
    "          []]\n",
    "dates = [1496801812, 1497406612]\n",
    "sep = \"\\t\""
   ]
  },
  {
   "cell_type": "code",
   "execution_count": 130,
   "metadata": {
    "collapsed": false
   },
   "outputs": [],
   "source": [
    "minimum_event = 20\n",
    "\n",
    "with open(\"../data/people_event.tsv\", \"wb\") as out_file:\n",
    "    cnt_people = 1\n",
    "    \n",
    "    out_file.write(\"{}\\n\".format(sep.join([\"people_name\", \"timestamp\", \"event\"])))\n",
    "    for idx, group in enumerate(groups):\n",
    "        for people in range(group):\n",
    "            people_name = \"people_{:04d}\".format(cnt_people)\n",
    "\n",
    "            candidated_events = None\n",
    "            if idx != len(groups)-1:\n",
    "                cnt_event = random.randint(minimum_event, len(events[idx]))\n",
    "                \n",
    "                plus_events = []\n",
    "                if people%2 == 0:\n",
    "                    for event_idx in range(0, len(events[idx]), 2):\n",
    "                        plus_events.append(events[idx][event_idx])\n",
    "                else:\n",
    "                    for event_idx in range(1, len(events[idx]), 2):\n",
    "                        plus_events.append(events[idx][event_idx])\n",
    "                \n",
    "                candidated_events = random.sample(events[idx] + plus_events*8, cnt_event)\n",
    "            else:\n",
    "                candidated_events = random.sample(event_all, 5)\n",
    "            \n",
    "            for event in candidated_events:\n",
    "                out_file.write(\"{}{sep}{}{sep}{}\\n\".format(people_name, random.randint(dates[0], dates[1]), event, sep=sep))\n",
    "                \n",
    "            cnt_people += 1"
   ]
  },
  {
   "cell_type": "code",
   "execution_count": null,
   "metadata": {
    "collapsed": false
   },
   "outputs": [],
   "source": []
  }
 ],
 "metadata": {
  "kernelspec": {
   "display_name": "Python 2",
   "language": "python",
   "name": "python2"
  },
  "language_info": {
   "codemirror_mode": {
    "name": "ipython",
    "version": 2
   },
   "file_extension": ".py",
   "mimetype": "text/x-python",
   "name": "python",
   "nbconvert_exporter": "python",
   "pygments_lexer": "ipython2",
   "version": "2.7.13"
  }
 },
 "nbformat": 4,
 "nbformat_minor": 0
}
