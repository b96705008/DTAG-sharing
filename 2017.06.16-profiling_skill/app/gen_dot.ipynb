{
 "cells": [
  {
   "cell_type": "code",
   "execution_count": 16,
   "metadata": {
    "collapsed": true
   },
   "outputs": [],
   "source": [
    "import networkx as nx\n",
    "import community\n",
    "\n",
    "from community import best_partition"
   ]
  },
  {
   "cell_type": "code",
   "execution_count": 17,
   "metadata": {
    "collapsed": false
   },
   "outputs": [],
   "source": [
    "sep = \"\\t\""
   ]
  },
  {
   "cell_type": "code",
   "execution_count": 18,
   "metadata": {
    "collapsed": false
   },
   "outputs": [],
   "source": [
    "def build_graph(g, people, community):\n",
    "    for curr_idx in range(len(people)):\n",
    "        for next_idx in range(curr_idx+1, len(people)):\n",
    "            curr_person = people[curr_idx]\n",
    "            next_person = people[next_idx]\n",
    "            \n",
    "            if curr_person in community and next_person in community:        \n",
    "                if g.has_edge(curr_person, next_person):\n",
    "                    data = g.get_edge_data(curr_person, next_person)\n",
    "                    g.add_edge(curr_person, next_person, key=\"edge\", weight=data['weight']+1)\n",
    "                else:\n",
    "                    g.add_edge(curr_person, next_person, weight=1)\n",
    "                \n",
    "    return g\n",
    "\n",
    "events = {}\n",
    "with open(\"../data/people_event.tsv\", \"rb\") as in_file:\n",
    "    in_file.next()\n",
    "    for line in in_file:\n",
    "        person, _, event = line.strip().split(sep)\n",
    "        events.setdefault(person, set())\n",
    "        events[person].add(event)"
   ]
  },
  {
   "cell_type": "code",
   "execution_count": 19,
   "metadata": {
    "collapsed": false
   },
   "outputs": [],
   "source": [
    "def community_detection(graph, level, name, modularity_lower=0.2, modularity_upper=0.8):\n",
    "    partitions = community.best_partition(graph)\n",
    "    modularity = community.modularity(partitions, graph)\n",
    "    \n",
    "    communities = {}\n",
    "    for k, v in partitions.items():\n",
    "        communities.setdefault(v, [])\n",
    "        communities[v].append(k)\n",
    "    \n",
    "    if modularity > modularity_lower and modularity < modularity_upper:    \n",
    "        print \"{}There are {} people in this community({}), and modularity is {:4f}, split {} communities\".format(\\\n",
    "            \"\\t\"*level, graph.number_of_nodes(), name, modularity, len(communities))\n",
    "    \n",
    "        for cid, people in communities.items():\n",
    "            community_name = \"{}-{}\".format(name, cid)\n",
    "        \n",
    "            sub_graph = graph.subgraph(people)\n",
    "            sub_p = community.best_partition(sub_graph)\n",
    "            sub_m = community.modularity(sub_p, sub_graph)\n",
    "            community_detection(sub_graph, level+1, community_name, modularity_lower, modularity_upper)\n",
    "    else:        \n",
    "        print \"{}There are {} people in this community({}), and modularity is {:4f}\".format(\\\n",
    "            \"\\t\"*level, graph.number_of_nodes(), name, modularity)"
   ]
  },
  {
   "cell_type": "code",
   "execution_count": 20,
   "metadata": {
    "collapsed": false
   },
   "outputs": [
    {
     "name": "stdout",
     "output_type": "stream",
     "text": [
      "There are 1000 people in this community(0), and modularity is 0.548649, split 5 communities\n",
      "\tThere are 201 people in this community(0-0), and modularity is 0.001306\n",
      "\tThere are 201 people in this community(0-1), and modularity is 0.001730\n",
      "\tThere are 307 people in this community(0-2), and modularity is 0.237815, split 2 communities\n",
      "\t\tThere are 154 people in this community(0-2-0), and modularity is 0.000968\n",
      "\t\tThere are 153 people in this community(0-2-1), and modularity is 0.001528\n",
      "\tThere are 151 people in this community(0-3), and modularity is 0.236836, split 2 communities\n",
      "\t\tThere are 76 people in this community(0-3-0), and modularity is 0.000813\n",
      "\t\tThere are 75 people in this community(0-3-1), and modularity is 0.000763\n",
      "\tThere are 140 people in this community(0-4), and modularity is 0.235455, split 2 communities\n",
      "\t\tThere are 70 people in this community(0-4-0), and modularity is 0.001771\n",
      "\t\tThere are 70 people in this community(0-4-1), and modularity is 0.001321\n"
     ]
    }
   ],
   "source": [
    "g = nx.Graph()\n",
    "with open(\"../data/event_relation.tsv\", \"rb\") as in_file:\n",
    "    in_file.next()\n",
    "    for line in in_file:\n",
    "        event, people = line.strip().split(sep)\n",
    "        people = people.split(\",\")\n",
    "        \n",
    "        g = build_graph(g, people, set(people))\n",
    "\n",
    "community_detection(g, 0, \"0\")"
   ]
  },
  {
   "cell_type": "code",
   "execution_count": null,
   "metadata": {
    "collapsed": true
   },
   "outputs": [],
   "source": []
  }
 ],
 "metadata": {
  "kernelspec": {
   "display_name": "Python 2",
   "language": "python",
   "name": "python2"
  },
  "language_info": {
   "codemirror_mode": {
    "name": "ipython",
    "version": 2
   },
   "file_extension": ".py",
   "mimetype": "text/x-python",
   "name": "python",
   "nbconvert_exporter": "python",
   "pygments_lexer": "ipython2",
   "version": "2.7.13"
  }
 },
 "nbformat": 4,
 "nbformat_minor": 0
}
