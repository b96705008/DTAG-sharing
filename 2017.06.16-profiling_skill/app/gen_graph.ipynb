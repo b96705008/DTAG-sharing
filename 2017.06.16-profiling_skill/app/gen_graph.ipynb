{
 "cells": [
  {
   "cell_type": "code",
   "execution_count": 9,
   "metadata": {
    "collapsed": true
   },
   "outputs": [],
   "source": [
    "import networkx as nx\n",
    "\n",
    "import pygraphviz\n",
    "from networkx.drawing.nx_agraph import write_dot"
   ]
  },
  {
   "cell_type": "code",
   "execution_count": 3,
   "metadata": {
    "collapsed": true
   },
   "outputs": [],
   "source": [
    "sep = \"\\t\""
   ]
  },
  {
   "cell_type": "code",
   "execution_count": 4,
   "metadata": {
    "collapsed": false
   },
   "outputs": [],
   "source": [
    "with open(\"../data/event_relation.tsv\", \"wb\") as out_file:\n",
    "    written_events = {}\n",
    "    \n",
    "    with open(\"../data/people_event.tsv\", \"rb\") as in_file:\n",
    "        in_file.next()\n",
    "        for line in in_file:\n",
    "            pid, timestamp, event = line.strip().split(sep)\n",
    "            written_events.setdefault(event, set())\n",
    "            written_events[event].add(pid)\n",
    "            \n",
    "    out_file.write(\"event\\tpeoples\\n\")\n",
    "    for event, people in written_events.items():\n",
    "        out_file.write(\"{}{sep}{}\\n\".format(event, \",\".join(people), sep=sep))"
   ]
  },
  {
   "cell_type": "code",
   "execution_count": 8,
   "metadata": {
    "collapsed": false
   },
   "outputs": [
    {
     "name": "stdout",
     "output_type": "stream",
     "text": [
      "0.548648983917\n"
     ]
    }
   ],
   "source": [
    "g = nx.Graph()\n",
    "with open(\"../data/event_relation.tsv\", \"rb\") as in_file:\n",
    "    in_file.next()\n",
    "    for line in in_file:\n",
    "        event, people = line.strip().split(sep)\n",
    "        people = people.split(\",\")\n",
    "        \n",
    "        for curr_idx in range(len(people)):\n",
    "            for next_idx in range(curr_idx+1, len(people)):\n",
    "                curr_person = people[curr_idx]\n",
    "                next_person = people[next_idx]\n",
    "                \n",
    "                if g.has_edge(curr_person, next_person):\n",
    "                    data = g.get_edge_data(curr_person, next_person)\n",
    "                    g.add_edge(curr_person, next_person, key=\"edge\", weight=data['weight']+1)\n",
    "                else:\n",
    "                    g.add_edge(curr_person, next_person, weight=1)\n",
    "\n",
    "write_dot(g, \"../data/find_similar_people.dot\")"
   ]
  },
  {
   "cell_type": "code",
   "execution_count": null,
   "metadata": {
    "collapsed": true
   },
   "outputs": [],
   "source": []
  }
 ],
 "metadata": {
  "kernelspec": {
   "display_name": "Python 2",
   "language": "python",
   "name": "python2"
  },
  "language_info": {
   "codemirror_mode": {
    "name": "ipython",
    "version": 2
   },
   "file_extension": ".py",
   "mimetype": "text/x-python",
   "name": "python",
   "nbconvert_exporter": "python",
   "pygments_lexer": "ipython2",
   "version": "2.7.13"
  }
 },
 "nbformat": 4,
 "nbformat_minor": 0
}
