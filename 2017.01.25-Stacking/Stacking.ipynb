{
 "cells": [
  {
   "cell_type": "markdown",
   "metadata": {
    "collapsed": false
   },
   "source": [
    "## Load Iris Data Set"
   ]
  },
  {
   "cell_type": "code",
   "execution_count": 259,
   "metadata": {
    "collapsed": true
   },
   "outputs": [],
   "source": [
    "from stacked_generalization.lib.stacking import StackedClassifier\n",
    "from sklearn.cross_validation import train_test_split\n",
    "from sklearn import tree\n",
    "from sklearn.ensemble import RandomForestClassifier, GradientBoostingClassifier\n",
    "from sklearn.linear_model import LogisticRegression, RidgeClassifier\n",
    "from sklearn import datasets, metrics\n",
    "\n",
    "iris = datasets.load_iris()\n",
    "X = iris.data\n",
    "Y = iris.target\n",
    "\n",
    "train_x,test_x,train_y,test_y = train_test_split(X ,Y ,train_size=0.1)"
   ]
  },
  {
   "cell_type": "markdown",
   "metadata": {},
   "source": [
    "## Decision Tree Prediction"
   ]
  },
  {
   "cell_type": "code",
   "execution_count": 301,
   "metadata": {
    "collapsed": false
   },
   "outputs": [
    {
     "name": "stdout",
     "output_type": "stream",
     "text": [
      "0.777777777778\n"
     ]
    }
   ],
   "source": [
    "clf = tree.DecisionTreeClassifier(max_features=2,max_depth=2)\n",
    "clf.fit(train_x, train_y)\n",
    "print(clf.score(test_x, test_y))"
   ]
  },
  {
   "cell_type": "markdown",
   "metadata": {},
   "source": [
    "## Random Forest Prediction"
   ]
  },
  {
   "cell_type": "code",
   "execution_count": 274,
   "metadata": {
    "collapsed": false
   },
   "outputs": [
    {
     "name": "stdout",
     "output_type": "stream",
     "text": [
      "0.940740740741\n"
     ]
    }
   ],
   "source": [
    "rf = RandomForestClassifier(n_estimators=100,max_depth=2)\n",
    "rf.fit(train_x, train_y)\n",
    "print(rf.score(test_x, test_y))"
   ]
  },
  {
   "cell_type": "markdown",
   "metadata": {},
   "source": [
    "## Stacking Trees Classifier"
   ]
  },
  {
   "cell_type": "code",
   "execution_count": 308,
   "metadata": {
    "collapsed": false
   },
   "outputs": [
    {
     "name": "stdout",
     "output_type": "stream",
     "text": [
      "0.874074074074\n"
     ]
    }
   ],
   "source": [
    "# Stage 1 model\n",
    "bclf = tree.DecisionTreeClassifier(max_features=2,max_depth=2)\n",
    "\n",
    "# Stage 0 models\n",
    "clfs = [tree.DecisionTreeClassifier(max_features=2,max_depth=2),\n",
    "        tree.DecisionTreeClassifier(max_features=2,max_depth=2),\n",
    "        tree.DecisionTreeClassifier(max_features=2,max_depth=2),\n",
    "        tree.DecisionTreeClassifier(max_features=2,max_depth=2),\n",
    "        tree.DecisionTreeClassifier(max_features=2,max_depth=2)]\n",
    "\n",
    "# same interface as scikit-learn\n",
    "sl = StackedClassifier(bclf, clfs)\n",
    "sl.fit(train_x, train_y)\n",
    "\n",
    "print metrics.accuracy_score(test_y,sl.predict(test_x))"
   ]
  },
  {
   "cell_type": "markdown",
   "metadata": {},
   "source": [
    "## Stacking Multiple Models"
   ]
  },
  {
   "cell_type": "code",
   "execution_count": 277,
   "metadata": {
    "collapsed": false
   },
   "outputs": [
    {
     "name": "stdout",
     "output_type": "stream",
     "text": [
      "0.948148148148\n"
     ]
    }
   ],
   "source": [
    "# Stage 1 model\n",
    "bclf = RandomForestClassifier(n_estimators=100)\n",
    "\n",
    "# Stage 0 models\n",
    "clfs = [RandomForestClassifier(n_estimators=100),\n",
    "        GradientBoostingClassifier(n_estimators=25, random_state=1),\n",
    "        LogisticRegression(random_state=1),\n",
    "        RidgeClassifier(random_state=1),\n",
    "        tree.DecisionTreeClassifier(max_features=2,max_depth=2)]\n",
    "\n",
    "# same interface as scikit-learn\n",
    "sl = StackedClassifier(bclf, clfs)\n",
    "sl.fit(train_x, train_y)\n",
    "\n",
    "print metrics.accuracy_score(test_y,sl.predict(test_x))\n"
   ]
  },
  {
   "cell_type": "markdown",
   "metadata": {},
   "source": [
    "## 建立兩層以上Stacking \n",
    "https://www.quora.com/What-are-examples-of-blending-and-stacking-in-Machine-Learning"
   ]
  },
  {
   "cell_type": "code",
   "execution_count": null,
   "metadata": {
    "collapsed": true
   },
   "outputs": [],
   "source": [
    "import brew\n",
    "from brew.base import Ensemble\n",
    "from brew.combination.combiner import Combiner\n",
    "from brew.stacking.stacker import EnsembleStack\n",
    "from brew.stacking.stacker import EnsembleStackClassifier"
   ]
  }
 ],
 "metadata": {
  "anaconda-cloud": {},
  "kernelspec": {
   "display_name": "Python [conda root]",
   "language": "python",
   "name": "conda-root-py"
  },
  "language_info": {
   "codemirror_mode": {
    "name": "ipython",
    "version": 2
   },
   "file_extension": ".py",
   "mimetype": "text/x-python",
   "name": "python",
   "nbconvert_exporter": "python",
   "pygments_lexer": "ipython2",
   "version": "2.7.12"
  }
 },
 "nbformat": 4,
 "nbformat_minor": 0
}
