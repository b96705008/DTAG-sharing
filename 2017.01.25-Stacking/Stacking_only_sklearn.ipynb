{
 "cells": [
  {
   "cell_type": "markdown",
   "metadata": {
    "collapsed": false
   },
   "source": [
    "## Load Iris Data Set"
   ]
  },
  {
   "cell_type": "code",
   "execution_count": 1,
   "metadata": {
    "collapsed": false
   },
   "outputs": [
    {
     "name": "stderr",
     "output_type": "stream",
     "text": [
      "/Users/rongqichen/Documents/programs/MLServices/lib/python2.7/site-packages/sklearn/cross_validation.py:44: DeprecationWarning: This module was deprecated in version 0.18 in favor of the model_selection module into which all the refactored classes and functions are moved. Also note that the interface of the new CV iterators are different from that of this module. This module will be removed in 0.20.\n",
      "  \"This module will be removed in 0.20.\", DeprecationWarning)\n"
     ]
    }
   ],
   "source": [
    "from sklearn.cross_validation import train_test_split\n",
    "from sklearn import tree\n",
    "from sklearn.ensemble import RandomForestClassifier, GradientBoostingClassifier\n",
    "from sklearn.linear_model import LogisticRegression, RidgeClassifier\n",
    "from sklearn import datasets, metrics\n",
    "\n",
    "iris = datasets.load_iris()\n",
    "X = iris.data\n",
    "Y = iris.target\n",
    "\n",
    "train_x,test_x,train_y,test_y = train_test_split(X ,Y ,train_size=0.1)"
   ]
  },
  {
   "cell_type": "markdown",
   "metadata": {},
   "source": [
    "## Decision Tree Prediction"
   ]
  },
  {
   "cell_type": "code",
   "execution_count": 2,
   "metadata": {
    "collapsed": false
   },
   "outputs": [
    {
     "name": "stdout",
     "output_type": "stream",
     "text": [
      "0.866666666667\n"
     ]
    }
   ],
   "source": [
    "clf = tree.DecisionTreeClassifier(max_features=2,max_depth=2)\n",
    "clf.fit(train_x, train_y)\n",
    "print(clf.score(test_x, test_y))"
   ]
  },
  {
   "cell_type": "markdown",
   "metadata": {},
   "source": [
    "## Random Forest Prediction"
   ]
  },
  {
   "cell_type": "code",
   "execution_count": 4,
   "metadata": {
    "collapsed": false
   },
   "outputs": [
    {
     "name": "stdout",
     "output_type": "stream",
     "text": [
      "0.881481481481\n"
     ]
    }
   ],
   "source": [
    "rf = RandomForestClassifier(n_estimators=8,max_depth=2)\n",
    "rf.fit(train_x, train_y)\n",
    "print(rf.score(test_x, test_y))"
   ]
  },
  {
   "cell_type": "markdown",
   "metadata": {},
   "source": [
    "## Stacking Trees Classifier"
   ]
  },
  {
   "cell_type": "code",
   "execution_count": 5,
   "metadata": {
    "collapsed": false
   },
   "outputs": [
    {
     "name": "stdout",
     "output_type": "stream",
     "text": [
      "0.955555555556\n"
     ]
    }
   ],
   "source": [
    "# Stage 1 model\n",
    "bclf = tree.DecisionTreeClassifier(max_features=2,max_depth=2)\n",
    "\n",
    "# Stage 0 models\n",
    "clfs = [tree.DecisionTreeClassifier(max_features=2,max_depth=2),\n",
    "        tree.DecisionTreeClassifier(max_features=2,max_depth=2),\n",
    "        tree.DecisionTreeClassifier(max_features=2,max_depth=2),\n",
    "        tree.DecisionTreeClassifier(max_features=2,max_depth=2),\n",
    "        tree.DecisionTreeClassifier(max_features=2,max_depth=2)]\n",
    "\n",
    "# same interface as scikit-learn\n",
    "sl = StackedClassifier(bclf, clfs)\n",
    "sl.fit(train_x, train_y)\n",
    "\n",
    "print metrics.accuracy_score(test_y,sl.predict(test_x))"
   ]
  },
  {
   "cell_type": "markdown",
   "metadata": {},
   "source": [
    "## Stacking Multiple Models"
   ]
  },
  {
   "cell_type": "code",
   "execution_count": 23,
   "metadata": {
    "collapsed": false
   },
   "outputs": [
    {
     "name": "stdout",
     "output_type": "stream",
     "text": [
      "RidgeClassifier 0.82962962963\n",
      "DecisionTreeClassifier 0.866666666667\n",
      "0.933333333333\n"
     ]
    }
   ],
   "source": [
    "import numpy as np\n",
    "\n",
    "# Stage 0 models\n",
    "clfs = [RidgeClassifier(random_state=1),\n",
    "        tree.DecisionTreeClassifier(max_features=2,max_depth=2)]\n",
    "\n",
    "# Stage 1 model\n",
    "model_stage1 = GradientBoostingClassifier(n_estimators=25, random_state=1)\n",
    "\n",
    "dataset_stage_0_x = []\n",
    "dataset_stage_0_y = []\n",
    "for clf in clfs:\n",
    "    clf.fit(train_x, train_y)\n",
    "    \n",
    "    y = clf.predict(test_x)\n",
    "    print type(clf).__name__, metrics.accuracy_score(test_y, y)\n",
    "\n",
    "    dataset_stage_0_x.append(clf.predict(train_x))\n",
    "    dataset_stage_0_y.append(y)\n",
    "\n",
    "xx = np.transpose(dataset_stage_0_x)\n",
    "yy = np.transpose(dataset_stage_0_y)\n",
    "    \n",
    "model_stage1.fit(xx, train_y)\n",
    "print metrics.accuracy_score(test_y, model_stage1.predict(yy))"
   ]
  }
 ],
 "metadata": {
  "anaconda-cloud": {},
  "kernelspec": {
   "display_name": "Python 2",
   "language": "python",
   "name": "python2"
  },
  "language_info": {
   "codemirror_mode": {
    "name": "ipython",
    "version": 2
   },
   "file_extension": ".py",
   "mimetype": "text/x-python",
   "name": "python",
   "nbconvert_exporter": "python",
   "pygments_lexer": "ipython2",
   "version": "2.7.13"
  }
 },
 "nbformat": 4,
 "nbformat_minor": 0
}
