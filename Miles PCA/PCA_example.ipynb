{
 "cells": [
  {
   "cell_type": "code",
   "execution_count": 76,
   "metadata": {
    "collapsed": false
   },
   "outputs": [
    {
     "name": "stderr",
     "output_type": "stream",
     "text": [
      "/Users/yehben/anaconda/lib/python3.5/site-packages/matplotlib/tight_layout.py:222: UserWarning: tight_layout : falling back to Agg renderer\n",
      "  warnings.warn(\"tight_layout : falling back to Agg renderer\")\n"
     ]
    }
   ],
   "source": [
    "from sklearn.decomposition import PCA\n",
    "from skimage import data, io, color\n",
    "\n",
    "link = \"/Users/yehben/Desktop/Brown.jpeg\"\n",
    "Brown_gray = io.imread(link,as_grey=True)\n",
    "io.imshow(Brown_gray)\n",
    "xlabel('Original Image')\n",
    "io.show()"
   ]
  },
  {
   "cell_type": "code",
   "execution_count": 73,
   "metadata": {
    "collapsed": false,
    "scrolled": true
   },
   "outputs": [
    {
     "name": "stdout",
     "output_type": "stream",
     "text": [
      "[[ 0.84993882  0.84993882  0.84993882 ...,  0.84993882  0.84993882\n",
      "   0.84993882]\n",
      " [ 0.84993882  0.84993882  0.84993882 ...,  0.84993882  0.84993882\n",
      "   0.84993882]\n",
      " [ 0.84993882  0.84993882  0.84993882 ...,  0.84993882  0.84993882\n",
      "   0.84993882]\n",
      " ..., \n",
      " [ 0.84993882  0.84993882  0.84993882 ...,  0.84993882  0.84993882\n",
      "   0.84993882]\n",
      " [ 0.84993882  0.84993882  0.84993882 ...,  0.84993882  0.84993882\n",
      "   0.84993882]\n",
      " [ 0.84993882  0.84993882  0.84993882 ...,  0.84993882  0.84993882\n",
      "   0.84993882]]\n",
      "233 216\n"
     ]
    }
   ],
   "source": [
    "print(Brown_gray)\n",
    "print(len(Brown_gray[0]),len(Brown_gray))"
   ]
  },
  {
   "cell_type": "code",
   "execution_count": 77,
   "metadata": {
    "collapsed": false
   },
   "outputs": [
    {
     "name": "stderr",
     "output_type": "stream",
     "text": [
      "/Users/yehben/anaconda/lib/python3.5/site-packages/matplotlib/tight_layout.py:222: UserWarning: tight_layout : falling back to Agg renderer\n",
      "  warnings.warn(\"tight_layout : falling back to Agg renderer\")\n"
     ]
    }
   ],
   "source": [
    "n_comp = 5\n",
    "pca = PCA(n_components = n_comp)\n",
    "pca.fit(Brown_gray)\n",
    "Brown_gray_pca = pca.fit_transform(Brown_gray)\n",
    "Brown_gray_restored = pca.inverse_transform(Brown_gray_pca)\n",
    "io.imshow(Brown_gray_restored)\n",
    "#xlabel('Restored image n_components = %s' %n_comp)\n",
    "io.show()"
   ]
  },
  {
   "cell_type": "code",
   "execution_count": 70,
   "metadata": {
    "collapsed": false
   },
   "outputs": [
    {
     "name": "stdout",
     "output_type": "stream",
     "text": [
      "[[-3.75486565 -1.29045251  0.89441235 -0.02113875  0.26399013]\n",
      " [-3.71234614 -1.31152145  0.90869519 -0.00540042  0.24953786]\n",
      " [-3.74355415 -1.28843433  0.88651691 -0.01930821  0.24798081]\n",
      " ..., \n",
      " [-3.72353913 -1.31242947  0.91061329 -0.01884042  0.2563397 ]\n",
      " [-3.737532   -1.2924745   0.88911781 -0.01646865  0.25402418]\n",
      " [-3.73676045 -1.29727282  0.88951292 -0.01989086  0.25310949]]\n",
      "[ 0.40798496  0.16101085  0.06473962  0.05728245  0.03977598]\n"
     ]
    }
   ],
   "source": [
    "print(pca.explained_variance_ratio_)"
   ]
  }
 ],
 "metadata": {
  "kernelspec": {
   "display_name": "Python 3",
   "language": "python",
   "name": "python3"
  },
  "language_info": {
   "codemirror_mode": {
    "name": "ipython",
    "version": 3
   },
   "file_extension": ".py",
   "mimetype": "text/x-python",
   "name": "python",
   "nbconvert_exporter": "python",
   "pygments_lexer": "ipython3",
   "version": "3.5.2"
  }
 },
 "nbformat": 4,
 "nbformat_minor": 0
}
