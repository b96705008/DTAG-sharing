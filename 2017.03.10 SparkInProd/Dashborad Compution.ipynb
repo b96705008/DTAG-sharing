{
 "cells": [
  {
   "cell_type": "code",
   "execution_count": 122,
   "metadata": {
    "collapsed": true
   },
   "outputs": [],
   "source": [
    "from itertools import chain,combinations\n",
    "from pyspark.sql import HiveContext,DataFrameWriter\n",
    "from pyspark.sql.types import *\n",
    "\n",
    "import copy\n",
    "import time\n",
    "import json\n",
    "import datetime\n",
    "import random\n",
    "hc = HiveContext(sc)\n",
    "\n",
    "hc.setConf(\"hive.exec.dynamic.partition.mode\", \"nonstrict\")\n",
    "hc.setConf(\"spark.sql.parquet.compression.codec\", \"uncompressed\")\n",
    "hc.setConf(\"spark.sql.shuffle.partitions\", \"128\")"
   ]
  },
  {
   "cell_type": "code",
   "execution_count": 3,
   "metadata": {
    "collapsed": false
   },
   "outputs": [],
   "source": [
    "df = hc.read.parquet(\"yyyymmdd=20170123/*\")\n",
    "df.registerTempTable(\"rowdata_celebrus0123\")"
   ]
  },
  {
   "cell_type": "markdown",
   "metadata": {},
   "source": [
    "## 計算Domain組合"
   ]
  },
  {
   "cell_type": "code",
   "execution_count": 4,
   "metadata": {
    "collapsed": true
   },
   "outputs": [],
   "source": [
    "DOMAINLIST = [\"Web-PC\", \"Web-Mobile\", \"MyBank-PC\", \"MyBank-Mobile\", \"B2B\", \"KOKO\"]"
   ]
  },
  {
   "cell_type": "code",
   "execution_count": 185,
   "metadata": {
    "collapsed": true
   },
   "outputs": [],
   "source": [
    "domain_combo = []\n",
    "for i in range(1,7):\n",
    "    domain_combo.append(list(combinations(DOMAINLIST,i)))\n",
    "domain_combo = [list(row) for row in list(chain.from_iterable(domain_combo))]"
   ]
  },
  {
   "cell_type": "code",
   "execution_count": 186,
   "metadata": {
    "collapsed": false
   },
   "outputs": [
    {
     "data": {
      "text/plain": [
       "[['Web-PC'],\n",
       " ['MyBank-Mobile'],\n",
       " ['B2B'],\n",
       " ['Web-Mobile'],\n",
       " ['MyBank-PC'],\n",
       " ['KOKO'],\n",
       " ['Web-PC', 'MyBank-Mobile'],\n",
       " ['Web-PC', 'B2B'],\n",
       " ['Web-PC', 'Web-Mobile'],\n",
       " ['Web-PC', 'MyBank-PC'],\n",
       " ['Web-PC', 'KOKO'],\n",
       " ['MyBank-Mobile', 'B2B'],\n",
       " ['MyBank-Mobile', 'Web-Mobile'],\n",
       " ['MyBank-Mobile', 'MyBank-PC'],\n",
       " ['MyBank-Mobile', 'KOKO'],\n",
       " ['B2B', 'Web-Mobile'],\n",
       " ['B2B', 'MyBank-PC'],\n",
       " ['B2B', 'KOKO'],\n",
       " ['Web-Mobile', 'MyBank-PC'],\n",
       " ['Web-Mobile', 'KOKO'],\n",
       " ['MyBank-PC', 'KOKO'],\n",
       " ['Web-PC', 'MyBank-Mobile', 'B2B'],\n",
       " ['Web-PC', 'MyBank-Mobile', 'Web-Mobile'],\n",
       " ['Web-PC', 'MyBank-Mobile', 'MyBank-PC'],\n",
       " ['Web-PC', 'MyBank-Mobile', 'KOKO'],\n",
       " ['Web-PC', 'B2B', 'Web-Mobile'],\n",
       " ['Web-PC', 'B2B', 'MyBank-PC'],\n",
       " ['Web-PC', 'B2B', 'KOKO'],\n",
       " ['Web-PC', 'Web-Mobile', 'MyBank-PC'],\n",
       " ['Web-PC', 'Web-Mobile', 'KOKO'],\n",
       " ['Web-PC', 'MyBank-PC', 'KOKO'],\n",
       " ['MyBank-Mobile', 'B2B', 'Web-Mobile'],\n",
       " ['MyBank-Mobile', 'B2B', 'MyBank-PC'],\n",
       " ['MyBank-Mobile', 'B2B', 'KOKO'],\n",
       " ['MyBank-Mobile', 'Web-Mobile', 'MyBank-PC'],\n",
       " ['MyBank-Mobile', 'Web-Mobile', 'KOKO'],\n",
       " ['MyBank-Mobile', 'MyBank-PC', 'KOKO'],\n",
       " ['B2B', 'Web-Mobile', 'MyBank-PC'],\n",
       " ['B2B', 'Web-Mobile', 'KOKO'],\n",
       " ['B2B', 'MyBank-PC', 'KOKO'],\n",
       " ['Web-Mobile', 'MyBank-PC', 'KOKO'],\n",
       " ['Web-PC', 'MyBank-Mobile', 'B2B', 'Web-Mobile'],\n",
       " ['Web-PC', 'MyBank-Mobile', 'B2B', 'MyBank-PC'],\n",
       " ['Web-PC', 'MyBank-Mobile', 'B2B', 'KOKO'],\n",
       " ['Web-PC', 'MyBank-Mobile', 'Web-Mobile', 'MyBank-PC'],\n",
       " ['Web-PC', 'MyBank-Mobile', 'Web-Mobile', 'KOKO'],\n",
       " ['Web-PC', 'MyBank-Mobile', 'MyBank-PC', 'KOKO'],\n",
       " ['Web-PC', 'B2B', 'Web-Mobile', 'MyBank-PC'],\n",
       " ['Web-PC', 'B2B', 'Web-Mobile', 'KOKO'],\n",
       " ['Web-PC', 'B2B', 'MyBank-PC', 'KOKO'],\n",
       " ['Web-PC', 'Web-Mobile', 'MyBank-PC', 'KOKO'],\n",
       " ['MyBank-Mobile', 'B2B', 'Web-Mobile', 'MyBank-PC'],\n",
       " ['MyBank-Mobile', 'B2B', 'Web-Mobile', 'KOKO'],\n",
       " ['MyBank-Mobile', 'B2B', 'MyBank-PC', 'KOKO'],\n",
       " ['MyBank-Mobile', 'Web-Mobile', 'MyBank-PC', 'KOKO'],\n",
       " ['B2B', 'Web-Mobile', 'MyBank-PC', 'KOKO'],\n",
       " ['Web-PC', 'MyBank-Mobile', 'B2B', 'Web-Mobile', 'MyBank-PC'],\n",
       " ['Web-PC', 'MyBank-Mobile', 'B2B', 'Web-Mobile', 'KOKO'],\n",
       " ['Web-PC', 'MyBank-Mobile', 'B2B', 'MyBank-PC', 'KOKO'],\n",
       " ['Web-PC', 'MyBank-Mobile', 'Web-Mobile', 'MyBank-PC', 'KOKO'],\n",
       " ['Web-PC', 'B2B', 'Web-Mobile', 'MyBank-PC', 'KOKO'],\n",
       " ['MyBank-Mobile', 'B2B', 'Web-Mobile', 'MyBank-PC', 'KOKO'],\n",
       " ['Web-PC', 'MyBank-Mobile', 'B2B', 'Web-Mobile', 'MyBank-PC', 'KOKO']]"
      ]
     },
     "execution_count": 186,
     "metadata": {},
     "output_type": "execute_result"
    }
   ],
   "source": [
    "domain_combo"
   ]
  },
  {
   "cell_type": "markdown",
   "metadata": {},
   "source": [
    "## Method 1 直覺作法"
   ]
  },
  {
   "cell_type": "code",
   "execution_count": 7,
   "metadata": {
    "collapsed": false
   },
   "outputs": [],
   "source": [
    "startDate = '2017-01-23'\n",
    "endDate = '2017-01-23'\n",
    "endDate_add1 = '2017-01-24'\n",
    "rowRDD= hc.sql('''\n",
    "               SELECT   A.domainname,\n",
    "                        A.session_id,\n",
    "                        A.cookie_id,\n",
    "                        A.duration,\n",
    "                        A.individual_id,\n",
    "                        B.first_visit,\n",
    "                        CASE WHEN first_visit < '{startDate}' THEN 'N'\n",
    "                        ELSE 'Y' END AS newUser \n",
    "               FROM     rowdata_celebrus0123 A\n",
    "               JOIN     ( SELECT   cookie_id,min(creation_datetime) as first_visit\n",
    "                           FROM    rowdata_celebrus0123\n",
    "                           GROUP BY cookie_id\n",
    "                        )B\n",
    "               ON       A.cookie_id = B.cookie_id\n",
    "               WHERE    A.creation_datetime >='{startDate}' and A.creation_datetime < '{endDate_add1}' \n",
    "               '''.format(startDate=startDate,endDate_add1=endDate_add1)).rdd.persist(StorageLevel.MEMORY_AND_DISK)"
   ]
  },
  {
   "cell_type": "code",
   "execution_count": 8,
   "metadata": {
    "collapsed": false
   },
   "outputs": [
    {
     "name": "stdout",
     "output_type": "stream",
     "text": [
      "2017-03-07 09:55:01.926447\n",
      "2017-03-07 12:00:52.417442\n"
     ]
    }
   ],
   "source": [
    "print datetime.datetime.now()\n",
    "result = []\n",
    "for domain in domain_combo:\n",
    "    domainRDD = rowRDD.filter(lambda line : line[\"domainname\"] in domain).persist()\n",
    "    sessionCnt = domainRDD.map(lambda line: line[\"session_id\"]).distinct().count()\n",
    "    if sessionCnt > 0:\n",
    "        users = domainRDD.map(lambda line: line[\"cookie_id\"]).distinct().count()\n",
    "        pageViews = domainRDD.count()\n",
    "        avgPages = float(pageViews)/sessionCnt\n",
    "        avgDuration = domainRDD.map(lambda line: line[\"duration\"] if line[\"duration\"] else 0).sum()/sessionCnt\n",
    "        newUserRate = domainRDD.filter(lambda line: line[\"newUser\"]=='Y')\\\n",
    "                            .map(lambda line: line[\"cookie_id\"])\\\n",
    "                            .distinct().count()/float(users)\n",
    "        recognition = domainRDD.filter(lambda line: line[\"individual_id\"]<>'None')\\\n",
    "                               .map(lambda line: line[\"cookie_id\"])\\\n",
    "                               .distinct().count()/float(users)\n",
    "        result.append({\"startDate\":\"2017-01-01\",\"endDate\":\"2017-01-02\",\"domain\":domain,\\\n",
    "                       \"data\":[users, pageViews, recognition, newUserRate, avgPages, avgDuration]})\n",
    "    else:\n",
    "        result.append({\"startDate\":\"2017-01-01\",\"endDate\":\"2017-01-02\",\"domain\":domain,\\\n",
    "                       \"data\":[0, 0, 0, 0, 0, 0]})\n",
    "    domainRDD.unpersist()\n",
    "print datetime.datetime.now()\n"
   ]
  },
  {
   "cell_type": "markdown",
   "metadata": {
    "collapsed": false
   },
   "source": [
    "## Method 2 合併Domain組合"
   ]
  },
  {
   "cell_type": "code",
   "execution_count": 9,
   "metadata": {
    "collapsed": false
   },
   "outputs": [],
   "source": [
    "startDate = '2017-01-23'\n",
    "endDate = '2017-01-23'\n",
    "endDate_add1 = '2017-01-24'\n",
    "rowRDD= hc.sql('''\n",
    "               SELECT   A.domainname,\n",
    "                        A.session_id,\n",
    "                        A.cookie_id,\n",
    "                        A.duration,\n",
    "                        A.individual_id,\n",
    "                        B.first_visit,\n",
    "                        CASE WHEN first_visit < '{startDate}' THEN 'N'\n",
    "                        ELSE 'Y' END AS newUser \n",
    "               FROM     rowdata_celebrus0123 A\n",
    "               JOIN     ( SELECT   cookie_id,min(creation_datetime) as first_visit\n",
    "                           FROM    rowdata_celebrus0123\n",
    "                           GROUP BY cookie_id\n",
    "                        )B\n",
    "               ON       A.cookie_id = B.cookie_id\n",
    "               WHERE    A.creation_datetime >='{startDate}' and A.creation_datetime < '{endDate_add1}' \n",
    "               '''.format(startDate=startDate,endDate_add1=endDate_add1)).rdd.persist(StorageLevel.MEMORY_AND_DISK)"
   ]
  },
  {
   "cell_type": "code",
   "execution_count": 10,
   "metadata": {
    "collapsed": true
   },
   "outputs": [],
   "source": [
    "def domainMatch(pageDomain, value, newUserFlag='Y', individual='1'):\n",
    "    for domain in domain_combo:\n",
    "        if pageDomain in domain and newUserFlag == 'Y' and individual <> 'None' and 'XXXX' not in individual:\n",
    "            yield (tuple(row for row in domain),value)"
   ]
  },
  {
   "cell_type": "code",
   "execution_count": 11,
   "metadata": {
    "collapsed": false
   },
   "outputs": [
    {
     "name": "stdout",
     "output_type": "stream",
     "text": [
      "2017-03-07 13:34:59.791637\n",
      "2017-03-07 13:57:10.357061\n"
     ]
    }
   ],
   "source": [
    "print datetime.datetime.now()\n",
    "sessionCnt = rowRDD.flatMap(lambda line : domainMatch(line['domainname'], line['session_id']))\\\n",
    "                   .distinct()\\\n",
    "                   .countByKey()\n",
    "\n",
    "users = rowRDD.flatMap(lambda line : domainMatch(line['domainname'], line[\"cookie_id\"]))\\\n",
    "                   .distinct()\\\n",
    "                   .countByKey()\n",
    "\n",
    "pageViews = rowRDD.flatMap(lambda line : domainMatch(line['domainname'], 1))\\\n",
    "                   .countByKey()\n",
    "    \n",
    "duration = dict(rowRDD.flatMap(lambda line : domainMatch(line['domainname'], line['duration'] if line['duration'] else 0))\\\n",
    "                  .reduceByKey(lambda x,y:x+y)\n",
    "                  .collect())\n",
    "\n",
    "newUsers = rowRDD.flatMap(lambda line : domainMatch(line['domainname'], line['cookie_id'], line['newUser']))\\\n",
    "                   .distinct()\\\n",
    "                   .countByKey()  \n",
    "\n",
    "recognition = rowRDD.flatMap(lambda line : domainMatch(line['domainname'], line['cookie_id'], 'Y', line['individual_id'] if line['individual_id'] else 'None'))\\\n",
    "                   .distinct()\\\n",
    "                   .countByKey()    \n",
    "        \n",
    "print datetime.datetime.now()"
   ]
  },
  {
   "cell_type": "code",
   "execution_count": 7,
   "metadata": {
    "collapsed": false
   },
   "outputs": [],
   "source": [
    "result = []\n",
    "for domain in domain_combo:\n",
    "    if sessionCnt[tuple(domain)] > 0:\n",
    "        recognitionRate = recognition[tuple(domain)]/float(users[tuple(domain)])\n",
    "        newUserRate = newUsers[tuple(domain)]/float(users[tuple(domain)])\n",
    "        avgPages = pageViews[tuple(domain)]/float(sessionCnt[tuple(domain)])\n",
    "        avgDuration = duration[tuple(domain)]/sessionCnt[tuple(domain)]\n",
    "        result.append({\"startDate\":startDate,\"endDate\":endDate,\"domain\":domain,\\\n",
    "                                  \"data\":[users[tuple(domain)], pageViews[tuple(domain)], recognitionRate,\\\n",
    "                                  newUserRate, avgPages, avgDuration]})\n",
    "    else:\n",
    "        result.append({\"startDate\":startDate,\"endDate\":endDate,\"domain\":domain,\\\n",
    "                       \"data\":[0, 0, 0.0, 0.0, 0.0, 0]})"
   ]
  },
  {
   "cell_type": "code",
   "execution_count": 114,
   "metadata": {
    "collapsed": false
   },
   "outputs": [
    {
     "data": {
      "text/plain": [
       "[{'data': [63967, 257526, 1.0, 1.0, 2.780187630223796, 359807],\n",
       "  'domain': ['Web-PC'],\n",
       "  'endDate': '2017-01-02',\n",
       "  'startDate': '2017-01-01'},\n",
       " {'data': [36549, 141690, 1.0, 1.0, 2.8259438760246516, 139898],\n",
       "  'domain': ['Web-Mobile'],\n",
       "  'endDate': '2017-01-02',\n",
       "  'startDate': '2017-01-01'},\n",
       " {'data': [71450, 428264, 1.0, 1.0, 4.646709705419628, 374164],\n",
       "  'domain': ['MyBank-PC'],\n",
       "  'endDate': '2017-01-02',\n",
       "  'startDate': '2017-01-01'},\n",
       " {'data': [76844, 412429, 1.0, 1.0, 3.967494612898261, 194149],\n",
       "  'domain': ['MyBank-Mobile'],\n",
       "  'endDate': '2017-01-02',\n",
       "  'startDate': '2017-01-01'},\n",
       " {'data': [10794, 136911, 1.0, 1.0, 6.700812451057165, 1227477],\n",
       "  'domain': ['B2B'],\n",
       "  'endDate': '2017-01-02',\n",
       "  'startDate': '2017-01-01'},\n",
       " {'data': [805, 3406, 1.0, 1.0, 3.686147186147186, 215456],\n",
       "  'domain': ['KOKO'],\n",
       "  'endDate': '2017-01-02',\n",
       "  'startDate': '2017-01-01'},\n",
       " {'data': [100500, 399216, 1.0, 1.0, 2.796256864283313, 282577],\n",
       "  'domain': ['Web-PC', 'Web-Mobile'],\n",
       "  'endDate': '2017-01-02',\n",
       "  'startDate': '2017-01-01'},\n",
       " {'data': [104114, 685790, 1.0, 1.0, 4.627587789144107, 457593],\n",
       "  'domain': ['Web-PC', 'MyBank-PC'],\n",
       "  'endDate': '2017-01-02',\n",
       "  'startDate': '2017-01-01'},\n",
       " {'data': [140805, 669955, 1.0, 1.0, 3.4080353645571035, 272207],\n",
       "  'domain': ['Web-PC', 'MyBank-Mobile'],\n",
       "  'endDate': '2017-01-02',\n",
       "  'startDate': '2017-01-01'},\n",
       " {'data': [72778, 394437, 1.0, 1.0, 3.5682093683848675, 528382],\n",
       "  'domain': ['Web-PC', 'B2B'],\n",
       "  'endDate': '2017-01-02',\n",
       "  'startDate': '2017-01-01'},\n",
       " {'data': [64618, 260932, 1.0, 1.0, 2.793674585925204, 358965],\n",
       "  'domain': ['Web-PC', 'KOKO'],\n",
       "  'endDate': '2017-01-02',\n",
       "  'startDate': '2017-01-01'},\n",
       " {'data': [107992, 569954, 1.0, 1.0, 4.0051860805037105, 291624],\n",
       "  'domain': ['Web-Mobile', 'MyBank-PC'],\n",
       "  'endDate': '2017-01-02',\n",
       "  'startDate': '2017-01-01'},\n",
       " {'data': [106243, 554119, 1.0, 1.0, 3.804717110683878, 186738],\n",
       "  'domain': ['Web-Mobile', 'MyBank-Mobile'],\n",
       "  'endDate': '2017-01-02',\n",
       "  'startDate': '2017-01-01'},\n",
       " {'data': [47264, 278601, 1.0, 1.0, 3.952403921179191, 455307],\n",
       "  'domain': ['Web-Mobile', 'B2B'],\n",
       "  'endDate': '2017-01-02',\n",
       "  'startDate': '2017-01-01'},\n",
       " {'data': [37310, 145096, 1.0, 1.0, 2.84390435123481, 141385],\n",
       "  'domain': ['Web-Mobile', 'KOKO'],\n",
       "  'endDate': '2017-01-02',\n",
       "  'startDate': '2017-01-01'},\n",
       " {'data': [148282, 840693, 1.0, 1.0, 4.286691107859084, 278747],\n",
       "  'domain': ['MyBank-PC', 'MyBank-Mobile'],\n",
       "  'endDate': '2017-01-02',\n",
       "  'startDate': '2017-01-01'},\n",
       " {'data': [80894, 565175, 1.0, 1.0, 5.0783531462562115, 535216],\n",
       "  'domain': ['MyBank-PC', 'B2B'],\n",
       "  'endDate': '2017-01-02',\n",
       "  'startDate': '2017-01-01'},\n",
       " {'data': [72172, 431670, 1.0, 1.0, 4.640714700380571, 372873],\n",
       "  'domain': ['MyBank-PC', 'KOKO'],\n",
       "  'endDate': '2017-01-02',\n",
       "  'startDate': '2017-01-01'},\n",
       " {'data': [87594, 549340, 1.0, 1.0, 4.4179762268581815, 364012],\n",
       "  'domain': ['MyBank-Mobile', 'B2B'],\n",
       "  'endDate': '2017-01-02',\n",
       "  'startDate': '2017-01-01'},\n",
       " {'data': [77641, 415835, 1.0, 1.0, 3.965318304916657, 194351],\n",
       "  'domain': ['MyBank-Mobile', 'KOKO'],\n",
       "  'endDate': '2017-01-02',\n",
       "  'startDate': '2017-01-01'},\n",
       " {'data': [11595, 140317, 1.0, 1.0, 6.571301456469817, 1183857],\n",
       "  'domain': ['B2B', 'KOKO'],\n",
       "  'endDate': '2017-01-02',\n",
       "  'startDate': '2017-01-01'},\n",
       " {'data': [140642, 827480, 1.0, 1.0, 4.1721330072856535, 377280],\n",
       "  'domain': ['Web-PC', 'Web-Mobile', 'MyBank-PC'],\n",
       "  'endDate': '2017-01-02',\n",
       "  'startDate': '2017-01-01'},\n",
       " {'data': [170190, 811645, 1.0, 1.0, 3.4064229925000733, 254020],\n",
       "  'domain': ['Web-PC', 'Web-Mobile', 'MyBank-Mobile'],\n",
       "  'endDate': '2017-01-02',\n",
       "  'startDate': '2017-01-01'},\n",
       " {'data': [109232, 536127, 1.0, 1.0, 3.3382960043337753, 407367],\n",
       "  'domain': ['Web-PC', 'Web-Mobile', 'B2B'],\n",
       "  'endDate': '2017-01-02',\n",
       "  'startDate': '2017-01-01'},\n",
       " {'data': [101107, 402622, 1.0, 1.0, 2.805786880561963, 282529],\n",
       "  'domain': ['Web-PC', 'Web-Mobile', 'KOKO'],\n",
       "  'endDate': '2017-01-02',\n",
       "  'startDate': '2017-01-01'},\n",
       " {'data': [180944, 1098219, 1.0, 1.0, 4.355453939749671, 348984],\n",
       "  'domain': ['Web-PC', 'MyBank-PC', 'MyBank-Mobile'],\n",
       "  'endDate': '2017-01-02',\n",
       "  'startDate': '2017-01-01'},\n",
       " {'data': [112324, 822701, 1.0, 1.0, 4.972144661614147, 561417],\n",
       "  'domain': ['Web-PC', 'MyBank-PC', 'B2B'],\n",
       "  'endDate': '2017-01-02',\n",
       "  'startDate': '2017-01-01'},\n",
       " {'data': [104756, 689196, 1.0, 1.0, 4.626842826069443, 456595],\n",
       "  'domain': ['Web-PC', 'MyBank-PC', 'KOKO'],\n",
       "  'endDate': '2017-01-02',\n",
       "  'startDate': '2017-01-01'},\n",
       " {'data': [149572, 806866, 1.0, 1.0, 3.7624550015854363, 366471],\n",
       "  'domain': ['Web-PC', 'MyBank-Mobile', 'B2B'],\n",
       "  'endDate': '2017-01-02',\n",
       "  'startDate': '2017-01-01'},\n",
       " {'data': [141448, 673361, 1.0, 1.0, 3.412100635942132, 272162],\n",
       "  'domain': ['Web-PC', 'MyBank-Mobile', 'KOKO'],\n",
       "  'endDate': '2017-01-02',\n",
       "  'startDate': '2017-01-01'},\n",
       " {'data': [73429, 397843, 1.0, 1.0, 3.5740607650430314, 526506],\n",
       "  'domain': ['Web-PC', 'B2B', 'KOKO'],\n",
       "  'endDate': '2017-01-02',\n",
       "  'startDate': '2017-01-01'},\n",
       " {'data': [177678, 982383, 1.0, 1.0, 4.131044343054183, 259378],\n",
       "  'domain': ['Web-Mobile', 'MyBank-PC', 'MyBank-Mobile'],\n",
       "  'endDate': '2017-01-02',\n",
       "  'startDate': '2017-01-01'},\n",
       " {'data': [117357, 706865, 1.0, 1.0, 4.380996355703201, 412642],\n",
       "  'domain': ['Web-Mobile', 'MyBank-PC', 'B2B'],\n",
       "  'endDate': '2017-01-02',\n",
       "  'startDate': '2017-01-01'},\n",
       " {'data': [108670, 573360, 1.0, 1.0, 4.006316642676468, 291364],\n",
       "  'domain': ['Web-Mobile', 'MyBank-PC', 'KOKO'],\n",
       "  'endDate': '2017-01-02',\n",
       "  'startDate': '2017-01-01'},\n",
       " {'data': [116944, 691030, 1.0, 1.0, 4.163408183061509, 314961],\n",
       "  'domain': ['Web-Mobile', 'MyBank-Mobile', 'B2B'],\n",
       "  'endDate': '2017-01-02',\n",
       "  'startDate': '2017-01-01'},\n",
       " {'data': [107004, 557525, 1.0, 1.0, 3.805085960374281, 186974],\n",
       "  'domain': ['Web-Mobile', 'MyBank-Mobile', 'KOKO'],\n",
       "  'endDate': '2017-01-02',\n",
       "  'startDate': '2017-01-01'},\n",
       " {'data': [48021, 282007, 1.0, 1.0, 3.9515041966174844, 452496],\n",
       "  'domain': ['Web-Mobile', 'B2B', 'KOKO'],\n",
       "  'endDate': '2017-01-02',\n",
       "  'startDate': '2017-01-01'},\n",
       " {'data': [157682, 977604, 1.0, 1.0, 4.54274840730294, 370569],\n",
       "  'domain': ['MyBank-PC', 'MyBank-Mobile', 'B2B'],\n",
       "  'endDate': '2017-01-02',\n",
       "  'startDate': '2017-01-01'},\n",
       " {'data': [148996, 844099, 1.0, 1.0, 4.285593160101949, 278562],\n",
       "  'domain': ['MyBank-PC', 'MyBank-Mobile', 'KOKO'],\n",
       "  'endDate': '2017-01-02',\n",
       "  'startDate': '2017-01-01'},\n",
       " {'data': [81615, 568581, 1.0, 1.0, 5.070097374803824, 532920],\n",
       "  'domain': ['MyBank-PC', 'B2B', 'KOKO'],\n",
       "  'endDate': '2017-01-02',\n",
       "  'startDate': '2017-01-01'},\n",
       " {'data': [88387, 552746, 1.0, 1.0, 4.412965550277434, 362948],\n",
       "  'domain': ['MyBank-Mobile', 'B2B', 'KOKO'],\n",
       "  'endDate': '2017-01-02',\n",
       "  'startDate': '2017-01-01'},\n",
       " {'data': [210328, 1239909, 1.0, 1.0, 4.2197314148028156, 323344],\n",
       "  'domain': ['Web-PC', 'Web-Mobile', 'MyBank-PC', 'MyBank-Mobile'],\n",
       "  'endDate': '2017-01-02',\n",
       "  'startDate': '2017-01-01'},\n",
       " {'data': [148773, 964391, 1.0, 1.0, 4.474737726140154, 463568],\n",
       "  'domain': ['Web-PC', 'Web-Mobile', 'MyBank-PC', 'B2B'],\n",
       "  'endDate': '2017-01-02',\n",
       "  'startDate': '2017-01-01'},\n",
       " {'data': [141240, 830886, 1.0, 1.0, 4.1742157828105215, 376921],\n",
       "  'domain': ['Web-PC', 'Web-Mobile', 'MyBank-PC', 'KOKO'],\n",
       "  'endDate': '2017-01-02',\n",
       "  'startDate': '2017-01-01'},\n",
       " {'data': [178908, 948556, 1.0, 1.0, 3.704038080808475, 334281],\n",
       "  'domain': ['Web-PC', 'Web-Mobile', 'MyBank-Mobile', 'B2B'],\n",
       "  'endDate': '2017-01-02',\n",
       "  'startDate': '2017-01-01'},\n",
       " {'data': [170797, 815051, 1.0, 1.0, 3.4102837680650047, 254078],\n",
       "  'domain': ['Web-PC', 'Web-Mobile', 'MyBank-Mobile', 'KOKO'],\n",
       "  'endDate': '2017-01-02',\n",
       "  'startDate': '2017-01-01'},\n",
       " {'data': [109839, 539533, 1.0, 1.0, 3.344323366061688, 406760],\n",
       "  'domain': ['Web-PC', 'Web-Mobile', 'B2B', 'KOKO'],\n",
       "  'endDate': '2017-01-02',\n",
       "  'startDate': '2017-01-01'},\n",
       " {'data': [189110, 1235130, 1.0, 1.0, 4.5852204386498965, 419774],\n",
       "  'domain': ['Web-PC', 'MyBank-PC', 'MyBank-Mobile', 'B2B'],\n",
       "  'endDate': '2017-01-02',\n",
       "  'startDate': '2017-01-01'},\n",
       " {'data': [181578, 1101625, 1.0, 1.0, 4.3559707394226965, 348733],\n",
       "  'domain': ['Web-PC', 'MyBank-PC', 'MyBank-Mobile', 'KOKO'],\n",
       "  'endDate': '2017-01-02',\n",
       "  'startDate': '2017-01-01'},\n",
       " {'data': [112966, 826107, 1.0, 1.0, 4.969901697729543, 560048],\n",
       "  'domain': ['Web-PC', 'MyBank-PC', 'B2B', 'KOKO'],\n",
       "  'endDate': '2017-01-02',\n",
       "  'startDate': '2017-01-01'},\n",
       " {'data': [150215, 810272, 1.0, 1.0, 3.7649245409263252, 366096],\n",
       "  'domain': ['Web-PC', 'MyBank-Mobile', 'B2B', 'KOKO'],\n",
       "  'endDate': '2017-01-02',\n",
       "  'startDate': '2017-01-01'},\n",
       " {'data': [187029, 1119294, 1.0, 1.0, 4.358010559267393, 337808],\n",
       "  'domain': ['Web-Mobile', 'MyBank-PC', 'MyBank-Mobile', 'B2B'],\n",
       "  'endDate': '2017-01-02',\n",
       "  'startDate': '2017-01-01'},\n",
       " {'data': [178356, 985789, 1.0, 1.0, 4.131295182616348, 259332],\n",
       "  'domain': ['Web-Mobile', 'MyBank-PC', 'MyBank-Mobile', 'KOKO'],\n",
       "  'endDate': '2017-01-02',\n",
       "  'startDate': '2017-01-01'},\n",
       " {'data': [118034, 710271, 1.0, 1.0, 4.380116923001023, 411809],\n",
       "  'domain': ['Web-Mobile', 'MyBank-PC', 'B2B', 'KOKO'],\n",
       "  'endDate': '2017-01-02',\n",
       "  'startDate': '2017-01-01'},\n",
       " {'data': [117701, 694436, 1.0, 1.0, 4.161913038266759, 314497],\n",
       "  'domain': ['Web-Mobile', 'MyBank-Mobile', 'B2B', 'KOKO'],\n",
       "  'endDate': '2017-01-02',\n",
       "  'startDate': '2017-01-01'},\n",
       " {'data': [158395, 981010, 1.0, 1.0, 4.5407459522509095, 370041],\n",
       "  'domain': ['MyBank-PC', 'MyBank-Mobile', 'B2B', 'KOKO'],\n",
       "  'endDate': '2017-01-02',\n",
       "  'startDate': '2017-01-01'},\n",
       " {'data': [218445, 1376820, 1.0, 1.0, 4.426974312475282, 386132],\n",
       "  'domain': ['Web-PC', 'Web-Mobile', 'MyBank-PC', 'MyBank-Mobile', 'B2B'],\n",
       "  'endDate': '2017-01-02',\n",
       "  'startDate': '2017-01-01'},\n",
       " {'data': [210926, 1243315, 1.0, 1.0, 4.221023041693685, 323232],\n",
       "  'domain': ['Web-PC', 'Web-Mobile', 'MyBank-PC', 'MyBank-Mobile', 'KOKO'],\n",
       "  'endDate': '2017-01-02',\n",
       "  'startDate': '2017-01-01'},\n",
       " {'data': [149371, 967797, 1.0, 1.0, 4.475651602878337, 462951],\n",
       "  'domain': ['Web-PC', 'Web-Mobile', 'MyBank-PC', 'B2B', 'KOKO'],\n",
       "  'endDate': '2017-01-02',\n",
       "  'startDate': '2017-01-01'},\n",
       " {'data': [179515, 951962, 1.0, 1.0, 3.7067861815463212, 334107],\n",
       "  'domain': ['Web-PC', 'Web-Mobile', 'MyBank-Mobile', 'B2B', 'KOKO'],\n",
       "  'endDate': '2017-01-02',\n",
       "  'startDate': '2017-01-01'},\n",
       " {'data': [189744, 1238536, 1.0, 1.0, 4.585064636981534, 419343],\n",
       "  'domain': ['Web-PC', 'MyBank-PC', 'MyBank-Mobile', 'B2B', 'KOKO'],\n",
       "  'endDate': '2017-01-02',\n",
       "  'startDate': '2017-01-01'},\n",
       " {'data': [187706, 1122700, 1.0, 1.0, 4.357529323179867, 337518],\n",
       "  'domain': ['Web-Mobile', 'MyBank-PC', 'MyBank-Mobile', 'B2B', 'KOKO'],\n",
       "  'endDate': '2017-01-02',\n",
       "  'startDate': '2017-01-01'},\n",
       " {'data': [219043, 1380226, 1.0, 1.0, 4.427718109609783, 385883],\n",
       "  'domain': ['Web-PC',\n",
       "   'Web-Mobile',\n",
       "   'MyBank-PC',\n",
       "   'MyBank-Mobile',\n",
       "   'B2B',\n",
       "   'KOKO'],\n",
       "  'endDate': '2017-01-02',\n",
       "  'startDate': '2017-01-01'}]"
      ]
     },
     "execution_count": 114,
     "metadata": {},
     "output_type": "execute_result"
    }
   ],
   "source": [
    "result"
   ]
  },
  {
   "cell_type": "markdown",
   "metadata": {},
   "source": [
    "## 當資料類型為['lucy',3,'aa'] "
   ]
  },
  {
   "cell_type": "code",
   "execution_count": 8,
   "metadata": {
    "collapsed": true
   },
   "outputs": [],
   "source": [
    "schema = StructType([StructField('startDate', StringType(), False),\n",
    "                     StructField('endDate', StringType(), False),\n",
    "                     StructField('domain', ArrayType(elementType=StringType()), False),\n",
    "                     StructField('data', StructType([\n",
    "                                    StructField('users', IntegerType(), False), \n",
    "                                    StructField('pageViews', IntegerType(), False),\n",
    "                                    StructField('recognition', FloatType(), False),\n",
    "                                    StructField('newUserRate', FloatType(), False),\n",
    "                                    StructField('avgPages', FloatType(), False),\n",
    "                                    StructField('avgDuration', IntegerType(), False)\n",
    "                                ])\n",
    "                            , False)\n",
    "                    ])"
   ]
  },
  {
   "cell_type": "code",
   "execution_count": 13,
   "metadata": {
    "collapsed": false
   },
   "outputs": [
    {
     "name": "stdout",
     "output_type": "stream",
     "text": [
      "root\n",
      " |-- startDate: string (nullable = false)\n",
      " |-- endDate: string (nullable = false)\n",
      " |-- domain: array (nullable = false)\n",
      " |    |-- element: string (containsNull = true)\n",
      " |-- data: struct (nullable = false)\n",
      " |    |-- users: integer (nullable = false)\n",
      " |    |-- pageView: integer (nullable = false)\n",
      " |    |-- recognition: float (nullable = false)\n",
      " |    |-- newUserRate: float (nullable = false)\n",
      " |    |-- avgPages: float (nullable = false)\n",
      " |    |-- domavgDurationain: integer (nullable = false)\n",
      "\n"
     ]
    }
   ],
   "source": [
    "resultDF.printSchema()"
   ]
  },
  {
   "cell_type": "code",
   "execution_count": null,
   "metadata": {
    "collapsed": true
   },
   "outputs": [],
   "source": [
    "hc.setConf(\"hive.exec.dynamic.partition.mode\", \"nonstrict\")\n",
    "hc.setConf(\"spark.sql.parquet.compression.codec\", \"uncompressed\")\n",
    "hc.setConf(\"spark.sql.shuffle.partitions\", \"1\")\n",
    "\n",
    "resultDF = hc.createDataFrame(result,schema)\n",
    "hc_writer = DataFrameWriter(resultDF)\n",
    "hc_writer.saveAsTable('bap_chp.mongoData',mode='append',format='parquet')"
   ]
  },
  {
   "cell_type": "markdown",
   "metadata": {
    "collapsed": false
   },
   "source": [
    "## Method3 - AggregateByKey & 直打橫"
   ]
  },
  {
   "cell_type": "code",
   "execution_count": 189,
   "metadata": {
    "collapsed": false
   },
   "outputs": [],
   "source": [
    "def phase(domain, key, creation_datetime, first_datetime):\n",
    "    values = []\n",
    "   \n",
    "    #ftime = time.mktime(datetime.datetime.strptime(first_datetime, \"%Y-%m-%d\").timetuple())\n",
    "    stime = time.mktime(datetime.datetime.strptime(creation_datetime, \"%Y-%m-%d\").timetuple())\n",
    "   \n",
    "    real_idx = int(stime-sdatetime.value) / sec_day.value #實際上第幾天\n",
    "    for i, d in enumerate(bc_domain_combo.value):\n",
    "        values.append([0 for _ in range(int(edatetime.value-sdatetime.value)/sec_day.value)])\n",
    "        if domain in d:\n",
    "            for idx in range(real_idx, len(values[i])):\n",
    "                values[i][idx] = 1\n",
    "   \n",
    "    return (key, values)\n",
    " \n",
    "def seq1(t1, t2):\n",
    "    for i in range(len(t1)):\n",
    "        for j in range(len(t1[i])):\n",
    "            t1[i][j] += t2[i][j]\n",
    "           \n",
    "    return t1\n",
    " \n",
    "comb1 = seq1\n",
    " \n",
    "def seq2(t1, t2):\n",
    "    for i in range(len(t1)): #domain\n",
    "        for j in range(len(t1[i])): #days\n",
    "            t1[i][j][0] += t2[1][i][j]\n",
    "            t1[i][j][1] += 1 if t2[1][i][j] > 0 else 0\n",
    "           \n",
    "    return t1\n",
    " \n",
    "def comb2(t1, t2):\n",
    "    for i in range(len(t1)):\n",
    "        for j in range(len(t1[i])):\n",
    "            t1[i][j][0] += t2[i][j][0]\n",
    "            t1[i][j][1] += t2[i][j][1]\n",
    "           \n",
    "    return t1"
   ]
  },
  {
   "cell_type": "code",
   "execution_count": 160,
   "metadata": {
    "collapsed": false
   },
   "outputs": [
    {
     "name": "stdout",
     "output_type": "stream",
     "text": [
      "534.776773214\n",
      "1109.50695705\n",
      "1669.64082599\n"
     ]
    }
   ],
   "source": [
    "s = \"2017-01-23\"\n",
    "e = \"2017-01-24\"\n",
    " \n",
    "DOMAINLIST = [\"Web-PC\", \"MyBank-Mobile\", \"B2B\", \"Web-Mobile\", \"MyBank-PC\", \"KOKO\"]\n",
    " \n",
    "domain_combo = []\n",
    "for i in range(1,7):\n",
    "    domain_combo.append(list(combinations(DOMAINLIST,i)))\n",
    "domain_combo = [\",\".join(list(row)) for row in list(chain.from_iterable(domain_combo))]\n",
    "random.shuffle(domain_combo) #洗牌\n",
    "\n",
    "sdatetime = sc.broadcast(time.mktime(datetime.datetime.strptime(s, \"%Y-%m-%d\").timetuple()))\n",
    "edatetime = sc.broadcast(time.mktime(datetime.datetime.strptime(e, \"%Y-%m-%d\").timetuple()))\n",
    "sec_day = sc.broadcast(86400)\n",
    " \n",
    "init_values = sc.broadcast([[0 for _ in domain_combo] for _ in range(int(edatetime.value-sdatetime.value)/sec_day.value)])\n",
    " \n",
    "btimestamp = time.time()\n",
    " \n",
    "batch_size = 3\n",
    "size = len(domain_combo) / batch_size\n",
    "for iii in range(0, batch_size):\n",
    "    siii = iii*size\n",
    "    eiii = min(len(domain_combo), (iii+1)*size)\n",
    "    d = domain_combo[siii:eiii]\n",
    "   \n",
    "    bc_domain_combo = sc.broadcast(d)\n",
    "    rowRDD= hc.sql('''\n",
    "                   SELECT   A.*,\n",
    "                            B.first_visit,\n",
    "                            CASE WHEN first_visit < '{s}' THEN 'N'\n",
    "                            ELSE 'Y' END AS newUser\n",
    "                   FROM     rowdata_celebrus0123 A\n",
    "                   JOIN     ( SELECT   cookie_id,min(creation_datetime) as first_visit\n",
    "                               FROM     rowdata_celebrus0123\n",
    "                               WHERE domainname != \"others\"\n",
    "                               GROUP BY cookie_id\n",
    "                            )B\n",
    "                   ON       A.cookie_id = B.cookie_id\n",
    "                   WHERE    A.domainname != 'others' AND A.creation_datetime >= '{s}' and A.creation_datetime < '{e}'\n",
    "                   '''.format(s=s, e=e)).rdd\n",
    " \n",
    "    init_values_1 = []\n",
    "    init_values_2 = []\n",
    "    for domain in d:\n",
    "        init_values_1.append([])\n",
    "        init_values_2.append([])\n",
    "        for _ in range(int(edatetime.value - sdatetime.value)/sec_day.value):\n",
    "            init_values_1[-1].append(0)\n",
    "            init_values_2[-1].append([0, 0])\n",
    " \n",
    "    results = rowRDD.map(lambda x: phase(x[\"domainname\"],\n",
    "                                         x[\"session_id\"],\n",
    "                                         x[\"creation_datetime\"].split(\" \")[0],\n",
    "                                         x[\"first_visit\"].split(\" \")[0])).\\\n",
    "                     aggregateByKey(init_values_1, seq1, comb1).\\\n",
    "                     #map(lambda x: x[1]).\\\n",
    "                     aggregate(init_values_2, seq2, comb2)\n",
    " \n",
    "    print time.time() - btimestamp   "
   ]
  },
  {
   "cell_type": "code",
   "execution_count": 195,
   "metadata": {
    "collapsed": false
   },
   "outputs": [
    {
     "name": "stdout",
     "output_type": "stream",
     "text": [
      "1348.73073292\n"
     ]
    }
   ],
   "source": [
    "s = \"2017-01-23\"\n",
    "e = \"2017-01-24\"\n",
    " \n",
    "DOMAINLIST = [\"Web-PC\", \"MyBank-Mobile\", \"B2B\", \"Web-Mobile\", \"MyBank-PC\", \"KOKO\"]\n",
    " \n",
    "domain_combo = []\n",
    "for i in range(1,7):\n",
    "    domain_combo.append(list(combinations(DOMAINLIST,i)))\n",
    "domain_combo = [\",\".join(list(row)) for row in list(chain.from_iterable(domain_combo))]\n",
    "random.shuffle(domain_combo) #洗牌\n",
    "\n",
    "sdatetime = sc.broadcast(time.mktime(datetime.datetime.strptime(s, \"%Y-%m-%d\").timetuple()))\n",
    "edatetime = sc.broadcast(time.mktime(datetime.datetime.strptime(e, \"%Y-%m-%d\").timetuple()))\n",
    "sec_day = sc.broadcast(86400)\n",
    " \n",
    "init_values = sc.broadcast([[0 for _ in domain_combo] for _ in range(int(edatetime.value-sdatetime.value)/sec_day.value)])\n",
    " \n",
    "btimestamp = time.time()\n",
    " \n",
    "batch_size = 1\n",
    "size = len(domain_combo) / batch_size\n",
    "for iii in range(0, batch_size):\n",
    "    siii = iii*size\n",
    "    eiii = min(len(domain_combo), (iii+1)*size)\n",
    "    d = domain_combo[siii:eiii]\n",
    "   \n",
    "    bc_domain_combo = sc.broadcast(d)\n",
    "    rowRDD= hc.sql('''\n",
    "                   SELECT   A.*,\n",
    "                            B.first_visit,\n",
    "                            CASE WHEN first_visit < '{s}' THEN 'N'\n",
    "                            ELSE 'Y' END AS newUser\n",
    "                   FROM     rowdata_celebrus0123 A\n",
    "                   JOIN     ( SELECT   cookie_id,min(creation_datetime) as first_visit\n",
    "                               FROM     rowdata_celebrus0123\n",
    "                               WHERE domainname != \"others\"\n",
    "                               GROUP BY cookie_id\n",
    "                            )B\n",
    "                   ON       A.cookie_id = B.cookie_id\n",
    "                   WHERE    A.domainname != 'others' AND A.creation_datetime >= '{s}' and A.creation_datetime < '{e}'\n",
    "                   '''.format(s=s, e=e)).rdd\n",
    " \n",
    "    init_values_1 = []\n",
    "    init_values_2 = []\n",
    "    for domain in d:\n",
    "        init_values_1.append([])\n",
    "        init_values_2.append([])\n",
    "        for _ in range(int(edatetime.value - sdatetime.value)/sec_day.value):\n",
    "            init_values_1[-1].append(0)\n",
    "            init_values_2[-1].append([0, 0])\n",
    " \n",
    "    results = rowRDD.map(lambda x: phase(x[\"domainname\"],\n",
    "                                         x[\"session_id\"],\n",
    "                                         x[\"creation_datetime\"].split(\" \")[0],\n",
    "                                         x[\"first_visit\"].split(\" \")[0])).\\\n",
    "                     aggregateByKey(init_values_1, seq1, comb1).\\\n",
    "                     aggregate(init_values_2, seq2, comb2)\n",
    " \n",
    "    print time.time() - btimestamp   \n",
    "\n"
   ]
  },
  {
   "cell_type": "code",
   "execution_count": 198,
   "metadata": {
    "collapsed": false
   },
   "outputs": [
    {
     "data": {
      "text/plain": [
       "[[[394437, 110542]],\n",
       " [[145096, 51020]],\n",
       " [[806866, 214452]],\n",
       " [[415835, 104868]],\n",
       " [[844099, 196962]],\n",
       " [[1122700, 257646]],\n",
       " [[428264, 92165]],\n",
       " [[136911, 20432]],\n",
       " [[822701, 165462]],\n",
       " [[554119, 145640]],\n",
       " [[669955, 196581]],\n",
       " [[568581, 112144]],\n",
       " [[710271, 162158]],\n",
       " [[1235130, 269372]],\n",
       " [[141690, 50139]],\n",
       " [[1239909, 293836]],\n",
       " [[981010, 216046]],\n",
       " [[826107, 166222]],\n",
       " [[827480, 198335]],\n",
       " [[685790, 148196]],\n",
       " [[140317, 21353]],\n",
       " [[815051, 238998]],\n",
       " [[964391, 215519]],\n",
       " [[260932, 93401]],\n",
       " [[573360, 143114]],\n",
       " [[948556, 256087]],\n",
       " [[811645, 238269]],\n",
       " [[1098219, 252148]],\n",
       " [[536127, 160599]],\n",
       " [[282007, 71367]],\n",
       " [[412429, 103952]],\n",
       " [[402622, 143497]],\n",
       " [[257526, 92629]],\n",
       " [[397843, 111314]],\n",
       " [[1243315, 294553]],\n",
       " [[569954, 142304]],\n",
       " [[967797, 216236]],\n",
       " [[810272, 215216]],\n",
       " [[1380226, 311724]],\n",
       " [[431670, 93018]],\n",
       " [[689196, 148956]],\n",
       " [[278601, 70489]],\n",
       " [[549340, 124342]],\n",
       " [[985789, 238615]],\n",
       " [[982383, 237805]],\n",
       " [[539533, 161328]],\n",
       " [[1101625, 252900]],\n",
       " [[557525, 146521]],\n",
       " [[691030, 165977]],\n",
       " [[830886, 199052]],\n",
       " [[694436, 166855]],\n",
       " [[565175, 111291]],\n",
       " [[951962, 256816]],\n",
       " [[1376820, 311007]],\n",
       " [[673361, 197345]],\n",
       " [[840693, 196117]],\n",
       " [[1238536, 270124]],\n",
       " [[399216, 142768]],\n",
       " [[3406, 924]],\n",
       " [[977604, 215201]],\n",
       " [[706865, 161348]],\n",
       " [[1119294, 256836]],\n",
       " [[552746, 125255]]]"
      ]
     },
     "execution_count": 198,
     "metadata": {},
     "output_type": "execute_result"
    }
   ],
   "source": [
    "results"
   ]
  },
  {
   "cell_type": "markdown",
   "metadata": {},
   "source": [
    "## partition內做seq, partition間做combine"
   ]
  },
  {
   "cell_type": "code",
   "execution_count": 105,
   "metadata": {
    "collapsed": true
   },
   "outputs": [],
   "source": [
    "def seq(a,b):\n",
    "    return a*b\n",
    "\n",
    "def combine(a,b):\n",
    "    return a+b"
   ]
  },
  {
   "cell_type": "code",
   "execution_count": 110,
   "metadata": {
    "collapsed": false
   },
   "outputs": [
    {
     "data": {
      "text/plain": [
       "[(1, 108), (2, 16), (3, 36)]"
      ]
     },
     "execution_count": 110,
     "metadata": {},
     "output_type": "execute_result"
    }
   ],
   "source": [
    "data = sc.parallelize([(1,3),(1,2),(1,4),\\\n",
    "                       (1,5),(1,6),(2,3),\\\n",
    "                       (2,5),(3,3),(3,6)],3)\n",
    "data.aggregateByKey(2,seq,combine,10).collect()"
   ]
  },
  {
   "cell_type": "code",
   "execution_count": null,
   "metadata": {
    "collapsed": true
   },
   "outputs": [],
   "source": [
    "data.aggregateByKey(4,seq,combine,2).collect()"
   ]
  }
 ],
 "metadata": {
  "anaconda-cloud": {},
  "kernelspec": {
   "display_name": "Python [default]",
   "language": "python",
   "name": "python2"
  },
  "language_info": {
   "codemirror_mode": {
    "name": "ipython",
    "version": 2
   },
   "file_extension": ".py",
   "mimetype": "text/x-python",
   "name": "python",
   "nbconvert_exporter": "python",
   "pygments_lexer": "ipython2",
   "version": "2.7.12"
  }
 },
 "nbformat": 4,
 "nbformat_minor": 2
}
