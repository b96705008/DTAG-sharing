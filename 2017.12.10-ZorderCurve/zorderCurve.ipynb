{
 "cells": [
  {
   "cell_type": "code",
   "execution_count": 1,
   "metadata": {
    "collapsed": true
   },
   "outputs": [],
   "source": [
    "from sklearn import preprocessing\n",
    "import math, numpy as np"
   ]
  },
  {
   "cell_type": "markdown",
   "metadata": {},
   "source": [
    "# 單一筆 data 的 z-order 值"
   ]
  },
  {
   "cell_type": "code",
   "execution_count": 2,
   "metadata": {
    "collapsed": true
   },
   "outputs": [],
   "source": [
    "def ZorderEachdataTH(data, bin_len = 3):\n",
    "    data_len = len(data)\n",
    "    zbin = [0] * data_len * bin_len\n",
    "    \n",
    "    ## integer to binary\n",
    "    for i in range(data_len):\n",
    "        bin = format(int(data[i]), \"0\" + str(bin_len) + \"b\")\n",
    "        for j in range(bin_len):\n",
    "            zbin[i + j * data_len] = int(bin[j])\n",
    "    \n",
    "    ## binary to integer\n",
    "    zbin_len = len(zbin)\n",
    "    zvalue = 0\n",
    "    for i in range(zbin_len):\n",
    "        zvalue += zbin[i] * (2 ** ((zbin_len - 1) - i))\n",
    "        \n",
    "    return zvalue        "
   ]
  },
  {
   "cell_type": "code",
   "execution_count": 3,
   "metadata": {
    "collapsed": true
   },
   "outputs": [],
   "source": [
    "def ZorderEachdataRC(data, bin_len = 3):\n",
    "    data_len = len(data)\n",
    "    zvalue = 0\n",
    "        \n",
    "    for idx, value in enumerate(data):\n",
    "        for i in range(0, bin_len):\n",
    "            zvalue |= (value & (2 ** i)) << int(max(0, 2 * (i + 1) - idx))\n",
    "\n",
    "    return zvalue"
   ]
  },
  {
   "cell_type": "markdown",
   "metadata": {},
   "source": [
    "# 一個 dataset 中，每一筆資料的 z-order 值"
   ]
  },
  {
   "cell_type": "code",
   "execution_count": 4,
   "metadata": {
    "collapsed": true
   },
   "outputs": [],
   "source": [
    "def ZorderDataset(data):\n",
    "    ## normalization\n",
    "    scaler = preprocessing.StandardScaler().fit(data)\n",
    "    data_scale = scaler.transform(data)\n",
    "    \n",
    "    ## convert -4 ~ 3 to 0 ~ 7\n",
    "    data_scale[data_scale < -3] = -4\n",
    "    data_scale[data_scale >= 3] = 3\n",
    "    data_scale = np.floor(data_scale) + 4\n",
    "    \n",
    "    z = []\n",
    "    for i in range(data_scale.shape[0]):\n",
    "        z.append(ZorderEachdataTH(data_scale[i, ]))\n",
    "    \n",
    "    return np.array(z)"
   ]
  },
  {
   "cell_type": "markdown",
   "metadata": {},
   "source": [
    "# 依 z-order 值進行抽樣"
   ]
  },
  {
   "cell_type": "code",
   "execution_count": 5,
   "metadata": {
    "collapsed": true
   },
   "outputs": [],
   "source": [
    "def ZorderSampling(data, zorder, cluster_num):\n",
    "    ## data sorted by z-order value\n",
    "    data_sort = data[zorder.argsort()]\n",
    "    \n",
    "    ## cluster_dict will save sampling data\n",
    "    cluster_dict = {}\n",
    "    for i in range(cluster_num):\n",
    "        remainder = [j % cluster_num for j in range(data_sort.shape[0])]\n",
    "        position = np.where(map(lambda x: x == i, remainder))\n",
    "        \n",
    "        cluster_dict[i] = list(data_sort[position])\n",
    "    \n",
    "    return cluster_dict"
   ]
  },
  {
   "cell_type": "markdown",
   "metadata": {},
   "source": [
    "# 以 iris data 實作"
   ]
  },
  {
   "cell_type": "code",
   "execution_count": 6,
   "metadata": {
    "collapsed": false
   },
   "outputs": [],
   "source": [
    "from sklearn import datasets"
   ]
  },
  {
   "cell_type": "code",
   "execution_count": 7,
   "metadata": {
    "collapsed": false
   },
   "outputs": [],
   "source": [
    "## load iris data\n",
    "iris = datasets.load_iris()\n",
    "x = iris.data\n",
    "y = iris.target"
   ]
  },
  {
   "cell_type": "code",
   "execution_count": 8,
   "metadata": {
    "collapsed": false
   },
   "outputs": [
    {
     "data": {
      "text/plain": [
       "array([1212,  244, 1200, 1200, 1204, 1212, 1200, 1200,  244, 1200, 1212,\n",
       "       1200,  244,  244, 1272, 1276, 1212, 1212, 1212, 1212, 1208, 1212,\n",
       "       1204, 1209, 1200,  244, 1200, 1212, 1208, 1200, 1200, 1208, 1272,\n",
       "       1272, 1200, 1200, 1212, 1200,  244, 1208, 1204,  240, 1200, 1205,\n",
       "       1212,  244, 1212, 1200, 1212, 1200, 3848, 3840, 3848,  968, 2884,\n",
       "        972, 3840,  243, 2884,  972,  183, 2884, 2641, 2884,  494, 3848,\n",
       "        972,  733, 2880,  729, 3840, 2884, 2880, 2884, 2884, 2884, 2892,\n",
       "       2892, 2884,  251,  729,  251,  972, 2884,  972, 3840, 3848, 2880,\n",
       "        972,  968,  968, 2884,  968,  243,  972,  972,  972, 2884,  251,\n",
       "        972, 3843,  972, 2895, 2886, 2887, 3015,  960, 2894, 2890, 3855,\n",
       "       3841, 2884, 2893,  969,  973, 3841, 2884, 3975, 3011, 2880, 3851,\n",
       "        973, 3015, 2884, 3851, 3850, 2884, 2884, 2887, 2894, 2894, 3975,\n",
       "       2887, 2884, 2882, 3015, 3843, 3840, 2884, 3849, 3851, 3849,  972,\n",
       "       3851, 3851, 2893, 2880, 2885, 3841, 2884])"
      ]
     },
     "execution_count": 8,
     "metadata": {},
     "output_type": "execute_result"
    }
   ],
   "source": [
    "## calculate z-order value for iris data\n",
    "zorder = ZorderDataset(x)\n",
    "zorder"
   ]
  },
  {
   "cell_type": "code",
   "execution_count": 9,
   "metadata": {
    "collapsed": false
   },
   "outputs": [],
   "source": [
    "## sample by z-order value\n",
    "zsampling = ZorderSampling(np.vstack((y, x.T)).T, zorder, 2)\n",
    "iris_a = zsampling[0]\n",
    "iris_b = zsampling[1]"
   ]
  },
  {
   "cell_type": "code",
   "execution_count": 10,
   "metadata": {
    "collapsed": false
   },
   "outputs": [
    {
     "data": {
      "text/plain": [
       "[array([ 1. ,  5. ,  2. ,  3.5,  1. ]),\n",
       " array([ 1. ,  5. ,  2.3,  3.3,  1. ]),\n",
       " array([ 0. ,  4.3,  3. ,  1.1,  0.1]),\n",
       " array([ 0. ,  5. ,  3. ,  1.6,  0.2]),\n",
       " array([ 0. ,  4.8,  3. ,  1.4,  0.3])]"
      ]
     },
     "execution_count": 10,
     "metadata": {},
     "output_type": "execute_result"
    }
   ],
   "source": [
    "iris_a[:5]"
   ]
  },
  {
   "cell_type": "code",
   "execution_count": 11,
   "metadata": {
    "collapsed": false
   },
   "outputs": [
    {
     "data": {
      "text/plain": [
       "[array([ 0. ,  4.5,  2.3,  1.3,  0.3]),\n",
       " array([ 1. ,  4.9,  2.4,  3.3,  1. ]),\n",
       " array([ 0. ,  4.8,  3. ,  1.4,  0.1]),\n",
       " array([ 0. ,  4.4,  2.9,  1.4,  0.2]),\n",
       " array([ 0. ,  4.9,  3. ,  1.4,  0.2])]"
      ]
     },
     "execution_count": 11,
     "metadata": {},
     "output_type": "execute_result"
    }
   ],
   "source": [
    "iris_b[:5]"
   ]
  },
  {
   "cell_type": "code",
   "execution_count": 12,
   "metadata": {
    "collapsed": true
   },
   "outputs": [],
   "source": [
    "# x < -3       : -4  ->  0\n",
    "# -3 <= x < -2 : -3  ->  1\n",
    "# -2 <= x < -1 : -2  ->  2\n",
    "# -1 <= x < 0  : -1  ->  3\n",
    "# 0 <= x < 1   :  0  ->  4\n",
    "# 1 <= x < 2   :  1  ->  5\n",
    "# 2 <= x < 3   :  2  ->  6\n",
    "# x >= 3       :  3  ->  7"
   ]
  },
  {
   "cell_type": "code",
   "execution_count": null,
   "metadata": {
    "collapsed": true
   },
   "outputs": [],
   "source": []
  }
 ],
 "metadata": {
  "anaconda-cloud": {},
  "kernelspec": {
   "display_name": "Python [conda root]",
   "language": "python",
   "name": "conda-root-py"
  },
  "language_info": {
   "codemirror_mode": {
    "name": "ipython",
    "version": 2
   },
   "file_extension": ".py",
   "mimetype": "text/x-python",
   "name": "python",
   "nbconvert_exporter": "python",
   "pygments_lexer": "ipython2",
   "version": "2.7.12"
  }
 },
 "nbformat": 4,
 "nbformat_minor": 1
}
