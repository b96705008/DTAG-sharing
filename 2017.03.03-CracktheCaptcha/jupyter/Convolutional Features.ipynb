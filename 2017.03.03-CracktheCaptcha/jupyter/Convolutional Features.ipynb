{
 "cells": [
  {
   "cell_type": "code",
   "execution_count": 1,
   "metadata": {
    "collapsed": false
   },
   "outputs": [
    {
     "data": {
      "text/plain": [
       "('1488533813763.jpg', <httplib.HTTPMessage instance at 0x1037c7dd0>)"
      ]
     },
     "execution_count": 1,
     "metadata": {},
     "output_type": "execute_result"
    }
   ],
   "source": [
    "from PIL import Image, ImageFilter\n",
    "\n",
    "import time\n",
    "import urllib\n",
    "\n",
    "import numpy as np\n",
    "\n",
    "captcha_img_url = \"http://railway1.hinet.net/ImageOut.jsp;jsessionid=VMt6QoesgHAFxK8c4dRSb8HtC2F8O5KGem8UwEOrwe464dVyR6Ks!-170005252\"\n",
    "filename = \"{}.jpg\".format(int(1000*time.time()))\n",
    "\n",
    "urllib.urlretrieve(captcha_img_url, filename)"
   ]
  },
  {
   "cell_type": "code",
   "execution_count": 3,
   "metadata": {
    "collapsed": false
   },
   "outputs": [],
   "source": [
    "img = Image.open(filename)\n",
    "\n",
    "shape = (5, 5)\n",
    "\n",
    "import numpy as np\n",
    "ker = np.random.rand(shape[0]*shape[1])\n",
    "\n",
    "filted_img = img.filter(ImageFilter.Kernel(shape, ker))\n",
    "filted_img.show()"
   ]
  }
 ],
 "metadata": {
  "kernelspec": {
   "display_name": "Python 2",
   "language": "python",
   "name": "python2"
  },
  "language_info": {
   "codemirror_mode": {
    "name": "ipython",
    "version": 2
   },
   "file_extension": ".py",
   "mimetype": "text/x-python",
   "name": "python",
   "nbconvert_exporter": "python",
   "pygments_lexer": "ipython2",
   "version": "2.7.13"
  }
 },
 "nbformat": 4,
 "nbformat_minor": 0
}
