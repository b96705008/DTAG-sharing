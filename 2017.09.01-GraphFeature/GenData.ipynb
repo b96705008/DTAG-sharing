{
 "cells": [
  {
   "cell_type": "code",
   "execution_count": 74,
   "metadata": {
    "collapsed": true
   },
   "outputs": [],
   "source": [
    "import time\n",
    "\n",
    "import string\n",
    "import random\n",
    "\n",
    "import numpy as np\n",
    "import networkx as nx\n",
    "\n",
    "import community\n",
    "from community import best_partition"
   ]
  },
  {
   "cell_type": "code",
   "execution_count": 75,
   "metadata": {
    "collapsed": true
   },
   "outputs": [],
   "source": [
    "event_all = [\"\".join([random.choice(string.uppercase) for idx in range(6)]) for _ in range(1024)]"
   ]
  },
  {
   "cell_type": "code",
   "execution_count": 76,
   "metadata": {
    "collapsed": false
   },
   "outputs": [],
   "source": [
    "groups = [80, 43, 120, 30, 20]\n",
    "events = [event_all[:groups[0]/2], \n",
    "          event_all[groups[0]/2:np.sum(groups[i] for i in range(0, 2))/2], \n",
    "          event_all[np.sum(groups[i] for i in range(0, 2))/2:np.sum(groups[i] for i in range(0, 3))/2], \n",
    "          event_all[np.sum(groups[i] for i in range(0, 3))/2:np.sum(groups[i] for i in range(0, 4))/2], \n",
    "          event_all[np.sum(groups[i] for i in range(0, 4))/2:np.sum(groups[i] for i in range(0, 5))/2], \n",
    "          []]\n",
    "dates = [1496801812, 1497406612]\n",
    "sep = \"\\t\""
   ]
  },
  {
   "cell_type": "code",
   "execution_count": 77,
   "metadata": {
    "collapsed": false
   },
   "outputs": [],
   "source": [
    "minimum_event = 1\n",
    "\n",
    "with open(\"people_event.tsv\", \"wb\") as out_file:\n",
    "    cnt_people = 1\n",
    "    \n",
    "    out_file.write(\"{}\\n\".format(sep.join([\"people_name\", \"timestamp\", \"event\"])))\n",
    "    for idx, group in enumerate(groups):\n",
    "        for people in range(group):\n",
    "            people_name = \"people_{:04d}\".format(cnt_people)\n",
    "\n",
    "            candidated_events = None\n",
    "            if idx != len(groups)-1:\n",
    "                cnt_event = random.randint(minimum_event, len(events[idx]))\n",
    "                \n",
    "                plus_events = []\n",
    "                if people%2 == 0:\n",
    "                    for event_idx in range(0, len(events[idx]), 2):\n",
    "                        plus_events.append(events[idx][event_idx])\n",
    "                else:\n",
    "                    for event_idx in range(1, len(events[idx]), 2):\n",
    "                        plus_events.append(events[idx][event_idx])\n",
    "                \n",
    "                candidated_events = random.sample(events[idx] + plus_events*8, cnt_event)\n",
    "            else:\n",
    "                candidated_events = random.sample(event_all, 5)\n",
    "            \n",
    "            for event in candidated_events:\n",
    "                out_file.write(\"{}{sep}{}{sep}{}\\n\".format(people_name, random.randint(dates[0], dates[1]), event, sep=sep))\n",
    "                \n",
    "            cnt_people += 1"
   ]
  },
  {
   "cell_type": "code",
   "execution_count": 78,
   "metadata": {
    "collapsed": false
   },
   "outputs": [],
   "source": [
    "with open(\"event_relation1.tsv\", \"wb\") as out_file:\n",
    "    written_events = {}\n",
    "    \n",
    "    with open(\"people_event.tsv\", \"rb\") as in_file:\n",
    "        in_file.next()\n",
    "        for line in in_file:\n",
    "            pid, timestamp, event = line.strip().split(sep)\n",
    "            written_events.setdefault(event, set())\n",
    "            written_events[event].add(pid)\n",
    "            \n",
    "    out_file.write(\"event\\tpeoples\\n\")\n",
    "    for event, people in written_events.items():\n",
    "        out_file.write(\"{}{sep}{}\\n\".format(event, \",\".join(people), sep=sep))"
   ]
  },
  {
   "cell_type": "code",
   "execution_count": 79,
   "metadata": {
    "collapsed": false
   },
   "outputs": [],
   "source": [
    "def build_graph(g, people, community):\n",
    "    for curr_idx in range(len(people)):\n",
    "        for next_idx in range(curr_idx+1, len(people)):\n",
    "            curr_person = people[curr_idx]\n",
    "            next_person = people[next_idx]\n",
    "            \n",
    "            if curr_person in community and next_person in community:        \n",
    "                if g.has_edge(curr_person, next_person):\n",
    "                    data = g.get_edge_data(curr_person, next_person)\n",
    "                    g.add_edge(curr_person, next_person, key=\"edge\", weight=data['weight']+1)\n",
    "                else:\n",
    "                    g.add_edge(curr_person, next_person, weight=1)\n",
    "                \n",
    "    return g\n",
    "\n",
    "events = {}\n",
    "with open(\"people_event.tsv\", \"rb\") as in_file:\n",
    "    in_file.next()\n",
    "    for line in in_file:\n",
    "        person, _, event = line.strip().split(sep)\n",
    "        events.setdefault(person, set())\n",
    "        events[person].add(event)"
   ]
  },
  {
   "cell_type": "code",
   "execution_count": 80,
   "metadata": {
    "collapsed": true
   },
   "outputs": [],
   "source": [
    "def community_detection(graph, level, name, modularity_lower=0.2, modularity_upper=0.8):\n",
    "    partitions = community.best_partition(graph)\n",
    "    modularity = community.modularity(partitions, graph)\n",
    "    \n",
    "    communities = {}\n",
    "    for k, v in partitions.items():\n",
    "        communities.setdefault(v, [])\n",
    "        communities[v].append(k)\n",
    "    \n",
    "    if modularity > modularity_lower and modularity < modularity_upper:    \n",
    "        print \"{}There are {} people in this community({}), and modularity is {:4f}, split {} communities\".format(\\\n",
    "            \"\\t\"*level, graph.number_of_nodes(), name, modularity, len(communities))\n",
    "    \n",
    "        for cid, people in communities.items():\n",
    "            community_name = \"{}-{}\".format(name, cid)\n",
    "        \n",
    "            sub_graph = graph.subgraph(people)\n",
    "            sub_p = community.best_partition(sub_graph)\n",
    "            sub_m = community.modularity(sub_p, sub_graph)\n",
    "            community_detection(sub_graph, level+1, community_name, modularity_lower, modularity_upper)\n",
    "    else:        \n",
    "        print \"{}There are {} people in this community({}), and modularity is {:4f}\".format(\\\n",
    "            \"\\t\"*level, graph.number_of_nodes(), name, modularity)"
   ]
  },
  {
   "cell_type": "code",
   "execution_count": 81,
   "metadata": {
    "collapsed": false
   },
   "outputs": [
    {
     "name": "stdout",
     "output_type": "stream",
     "text": [
      "There are 287 people in this community(0), and modularity is 0.479939, split 7 communities\n",
      "\tThere are 81 people in this community(0-0), and modularity is 0.253558, split 2 communities\n",
      "\t\tThere are 39 people in this community(0-0-0), and modularity is 0.004402\n",
      "\t\tThere are 42 people in this community(0-0-1), and modularity is 0.018939\n",
      "\tThere are 63 people in this community(0-1), and modularity is 0.003093\n",
      "\tThere are 64 people in this community(0-2), and modularity is 0.005168\n",
      "\tThere are 30 people in this community(0-3), and modularity is 0.251648, split 2 communities\n",
      "\t\tThere are 16 people in this community(0-3-0), and modularity is 0.023209\n",
      "\t\tThere are 14 people in this community(0-3-1), and modularity is 0.040799\n",
      "\tThere are 44 people in this community(0-4), and modularity is 0.263446, split 2 communities\n",
      "\t\tThere are 22 people in this community(0-4-0), and modularity is 0.027067\n",
      "\t\tThere are 22 people in this community(0-4-1), and modularity is 0.008593\n",
      "\tThere are 3 people in this community(0-5), and modularity is 0.000000\n",
      "\tThere are 2 people in this community(0-6), and modularity is 0.000000\n"
     ]
    }
   ],
   "source": [
    "g = nx.Graph()\n",
    "with open(\"event_relation1.tsv\", \"rb\") as in_file:\n",
    "    in_file.next()\n",
    "    for line in in_file:\n",
    "        event, people = line.strip().split(sep)\n",
    "        people = people.split(\",\")\n",
    "        \n",
    "        g = build_graph(g, people, set(people))\n",
    "        \n",
    "community_detection(g, 0, \"0\")"
   ]
  },
  {
   "cell_type": "code",
   "execution_count": 84,
   "metadata": {
    "collapsed": false
   },
   "outputs": [],
   "source": [
    "partitions = community.best_partition(g)\n",
    "\n",
    "with open(\"people_label.txt\", \"wb\") as out_file:\n",
    "    for p, c in sorted(partitions.items(), key=lambda x: x[0]):\n",
    "        out_file.write(\"{}\\t{}\\n\".format(p, c))"
   ]
  },
  {
   "cell_type": "code",
   "execution_count": 1,
   "metadata": {
    "collapsed": true
   },
   "outputs": [],
   "source": [
    "!cp GraphFeatureRepresentaion.ipynb GraphFeatureRepresentaion_part1.ipynb"
   ]
  }
 ],
 "metadata": {
  "kernelspec": {
   "display_name": "Python 2",
   "language": "python",
   "name": "python2"
  },
  "language_info": {
   "codemirror_mode": {
    "name": "ipython",
    "version": 2
   },
   "file_extension": ".py",
   "mimetype": "text/x-python",
   "name": "python",
   "nbconvert_exporter": "python",
   "pygments_lexer": "ipython2",
   "version": "2.7.13"
  }
 },
 "nbformat": 4,
 "nbformat_minor": 0
}
