{
 "cells": [
  {
   "cell_type": "code",
   "execution_count": 100,
   "metadata": {
    "collapsed": true
   },
   "outputs": [],
   "source": [
    "from __future__ import unicode_literals\n",
    "from pymongo import MongoClient\n",
    "import random\n",
    "import numpy as np"
   ]
  },
  {
   "cell_type": "markdown",
   "metadata": {},
   "source": [
    "# Mongo Config"
   ]
  },
  {
   "cell_type": "code",
   "execution_count": 9,
   "metadata": {
    "collapsed": true
   },
   "outputs": [],
   "source": [
    "MONGO_HOST = 'localhost' #88.8.141.118\n",
    "MONGO_DB = 'mydb'"
   ]
  },
  {
   "cell_type": "code",
   "execution_count": 10,
   "metadata": {
    "collapsed": false
   },
   "outputs": [],
   "source": [
    "client = MongoClient(MONGO_HOST)\n",
    "db = client[MONGO_DB]"
   ]
  },
  {
   "cell_type": "code",
   "execution_count": 62,
   "metadata": {
    "collapsed": false
   },
   "outputs": [
    {
     "data": {
      "text/plain": [
       "[u'interest']"
      ]
     },
     "execution_count": 62,
     "metadata": {},
     "output_type": "execute_result"
    }
   ],
   "source": [
    "db.collection_names()"
   ]
  },
  {
   "cell_type": "code",
   "execution_count": 124,
   "metadata": {
    "collapsed": false
   },
   "outputs": [],
   "source": [
    "name_list = ['RC', 'Roger', 'TH', 'Amber', 'Bgg', 'Miles']\n",
    "interest_list = ['打棒球', '看電影', '約會', '睡覺', 'Coding', '看書']\n",
    "\n",
    "datalist = []\n",
    "for name in name_list:\n",
    "    for interest in interest_list:\n",
    "        score = np.random.uniform(0,1)\n",
    "        datalist.append({'name':name, 'interest':interest, 'score':score})"
   ]
  },
  {
   "cell_type": "code",
   "execution_count": 73,
   "metadata": {
    "collapsed": false
   },
   "outputs": [
    {
     "data": {
      "text/plain": [
       "<pymongo.results.InsertManyResult at 0x105314780>"
      ]
     },
     "execution_count": 73,
     "metadata": {},
     "output_type": "execute_result"
    }
   ],
   "source": [
    "db.interest.insert_many(datalist)"
   ]
  },
  {
   "cell_type": "code",
   "execution_count": 69,
   "metadata": {
    "collapsed": false
   },
   "outputs": [
    {
     "name": "stdout",
     "output_type": "stream",
     "text": [
      "{u'_id': ObjectId('595b7477a54d7529471ff1ff'), u'score': 0.09812130977821976, u'interest': u'\\u6253\\u6f06\\u5f48', u'name': u'RC'}\n"
     ]
    }
   ],
   "source": [
    "db.interest.find_one()"
   ]
  },
  {
   "cell_type": "code",
   "execution_count": 136,
   "metadata": {
    "collapsed": false
   },
   "outputs": [
    {
     "name": "stdout",
     "output_type": "stream",
     "text": [
      "{u'_id': ObjectId('595b765ba54d7529471ff20f'), u'score': 0.9401224246664398, u'interest': u'\\u7761\\u89ba', u'name': u'TH'}\n",
      "{u'_id': ObjectId('595b765ba54d7529471ff221'), u'score': 0.4805491396910663, u'interest': u'\\u7761\\u89ba', u'name': u'Miles'}\n",
      "{u'_id': ObjectId('595b765ba54d7529471ff203'), u'score': 0.4491680330369012, u'interest': u'\\u7761\\u89ba', u'name': u'RC'}\n",
      "{u'_id': ObjectId('595b765ba54d7529471ff215'), u'score': 0.3126259017146613, u'interest': u'\\u7761\\u89ba', u'name': u'Amber'}\n",
      "{u'_id': ObjectId('595b765ba54d7529471ff209'), u'score': 0.21904673538285369, u'interest': u'\\u7761\\u89ba', u'name': u'Roger'}\n",
      "{u'_id': ObjectId('595b765ba54d7529471ff21b'), u'score': 0.11401825407322708, u'interest': u'\\u7761\\u89ba', u'name': u'Bgg'}\n"
     ]
    }
   ],
   "source": [
    "for col in db.interest.find({'interest':'睡覺'}).sort(\"score\", -1):\n",
    "    print col"
   ]
  },
  {
   "cell_type": "code",
   "execution_count": 127,
   "metadata": {
    "collapsed": false
   },
   "outputs": [
    {
     "name": "stdout",
     "output_type": "stream",
     "text": [
      "{u'_id': ObjectId('595b765ba54d7529471ff203'), u'score': 0.4491680330369012, u'interest': u'睡覺', u'name': u'RC'}\n",
      "{u'_id': ObjectId('595b765ba54d7529471ff209'), u'score': 0.21904673538285369, u'interest': u'睡覺', u'name': u'Roger'}\n",
      "{u'_id': ObjectId('595b765ba54d7529471ff20f'), u'score': 0.9401224246664398, u'interest': u'睡覺', u'name': u'TH'}\n",
      "{u'_id': ObjectId('595b765ba54d7529471ff215'), u'score': 0.3126259017146613, u'interest': u'睡覺', u'name': u'Amber'}\n",
      "{u'_id': ObjectId('595b765ba54d7529471ff21b'), u'score': 0.11401825407322708, u'interest': u'睡覺', u'name': u'Bgg'}\n",
      "{u'_id': ObjectId('595b765ba54d7529471ff221'), u'score': 0.4805491396910663, u'interest': u'睡覺', u'name': u'Miles'}\n"
     ]
    }
   ],
   "source": [
    "for item in db.interest.find({'interest':'睡覺'}):\n",
    "    #print item #, type(item['interest']), item['interest']    \n",
    "    print repr(item).decode('unicode-escape')"
   ]
  },
  {
   "cell_type": "code",
   "execution_count": 87,
   "metadata": {
    "collapsed": false
   },
   "outputs": [
    {
     "data": {
      "text/plain": [
       "20"
      ]
     },
     "execution_count": 87,
     "metadata": {},
     "output_type": "execute_result"
    }
   ],
   "source": [
    "db.interest.find({'score':{'$lt':0.5}}).count()"
   ]
  },
  {
   "cell_type": "code",
   "execution_count": 88,
   "metadata": {
    "collapsed": false
   },
   "outputs": [
    {
     "data": {
      "text/plain": [
       "{u'_id': ObjectId('595b74e5a54d7529471ff200'),\n",
       " u'interest': u'\\u6253\\u6f06\\u5f48',\n",
       " u'name': u'RC',\n",
       " u'score': 0.4875040363529147}"
      ]
     },
     "execution_count": 88,
     "metadata": {},
     "output_type": "execute_result"
    }
   ],
   "source": [
    "db.interest.find({'score':{'$lt':0.5}})[0]"
   ]
  },
  {
   "cell_type": "code",
   "execution_count": 92,
   "metadata": {
    "collapsed": false
   },
   "outputs": [
    {
     "data": {
      "text/plain": [
       "7"
      ]
     },
     "execution_count": 92,
     "metadata": {},
     "output_type": "execute_result"
    }
   ],
   "source": [
    "db.interest.find({'$and':[{'score':{'$lt':0.5}}, {'score':{'$gt':0.3}}]}).count()"
   ]
  },
  {
   "cell_type": "code",
   "execution_count": 96,
   "metadata": {
    "collapsed": false
   },
   "outputs": [
    {
     "name": "stdout",
     "output_type": "stream",
     "text": [
      "看電影\n"
     ]
    }
   ],
   "source": [
    "print db.interest.find({'$and':[{'name':'RC'}, {'score':{'$gt':0.3}}]})[1]['interest']"
   ]
  }
 ],
 "metadata": {
  "anaconda-cloud": {},
  "kernelspec": {
   "display_name": "Python [conda root]",
   "language": "python",
   "name": "conda-root-py"
  },
  "language_info": {
   "codemirror_mode": {
    "name": "ipython",
    "version": 2
   },
   "file_extension": ".py",
   "mimetype": "text/x-python",
   "name": "python",
   "nbconvert_exporter": "python",
   "pygments_lexer": "ipython2",
   "version": "2.7.12"
  }
 },
 "nbformat": 4,
 "nbformat_minor": 1
}
