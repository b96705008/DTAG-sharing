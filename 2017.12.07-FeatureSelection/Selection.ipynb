{
 "cells": [
  {
   "cell_type": "code",
   "execution_count": 1,
   "metadata": {
    "collapsed": true
   },
   "outputs": [],
   "source": [
    "from sklearn import svm\n",
    "from sklearn.datasets import samples_generator\n",
    "from sklearn.feature_selection import SelectKBest, f_regression\n",
    "from sklearn.pipeline import make_pipeline"
   ]
  },
  {
   "cell_type": "code",
   "execution_count": 71,
   "metadata": {
    "collapsed": false
   },
   "outputs": [],
   "source": [
    "# import some data to play with\n",
    "X, y = samples_generator.make_classification(\n",
    "    n_samples=1000, n_features=20, n_informative=5, n_classes=4)\n",
    "\n",
    "# ANOVA SVM-C\n",
    "# 1) anova filter, take 3 best ranked features\n",
    "anova_filter = SelectKBest(f_regression, k=3)\n",
    "# 2) svm\n",
    "clf = svm.SVC(kernel='linear')\n",
    "\n",
    "anova_svm = make_pipeline(anova_filter, clf)"
   ]
  },
  {
   "cell_type": "code",
   "execution_count": 67,
   "metadata": {
    "collapsed": false
   },
   "outputs": [
    {
     "data": {
      "text/plain": [
       "array([  6.86058641e-01,   1.47129755e-01,   3.32963905e+00,\n",
       "         4.32656425e-01,   3.55523414e+02,   1.08424014e+02,\n",
       "         3.46703583e+00,   1.95759418e-01,   3.16200734e+00,\n",
       "         1.34119851e-01,   2.49825979e-01,   1.16827010e+00,\n",
       "         7.34072539e-01,   1.29699193e+00,   1.88879387e+02,\n",
       "         3.11036556e-03,   9.90633692e+01,   1.28436660e+01,\n",
       "         1.37683001e+00,   1.10229511e+01])"
      ]
     },
     "execution_count": 67,
     "metadata": {},
     "output_type": "execute_result"
    }
   ],
   "source": [
    "anova_filter.fit(X,y)\n",
    "anova_filter.scores_"
   ]
  },
  {
   "cell_type": "code",
   "execution_count": 68,
   "metadata": {
    "collapsed": false
   },
   "outputs": [
    {
     "data": {
      "text/plain": [
       "array([[-3.5895238 , -1.39610122, -3.11913815],\n",
       "       [-1.41066226, -0.91693519, -0.07575605],\n",
       "       [-0.88351649,  0.51059963,  2.22586311],\n",
       "       ..., \n",
       "       [-0.43493493,  1.17368458, -0.82562758],\n",
       "       [ 0.69089241,  3.59961603,  3.9498993 ],\n",
       "       [ 2.13055143,  2.34065486,  1.46164623]])"
      ]
     },
     "execution_count": 68,
     "metadata": {},
     "output_type": "execute_result"
    }
   ],
   "source": [
    "anova_filter.fit_transform(X,y)"
   ]
  },
  {
   "cell_type": "code",
   "execution_count": 76,
   "metadata": {
    "collapsed": false
   },
   "outputs": [
    {
     "data": {
      "text/plain": [
       "array([1, 3, 2, 3, 2, 2, 2, 0, 0, 2])"
      ]
     },
     "execution_count": 76,
     "metadata": {},
     "output_type": "execute_result"
    }
   ],
   "source": [
    "anova_svm.fit(X, y)\n",
    "anova_svm.predict(X[0:10])"
   ]
  },
  {
   "cell_type": "markdown",
   "metadata": {},
   "source": [
    "## Evaluation By Model "
   ]
  },
  {
   "cell_type": "code",
   "execution_count": 69,
   "metadata": {
    "collapsed": false
   },
   "outputs": [],
   "source": [
    "from sklearn.feature_selection import SelectFromModel\n",
    "from sklearn.linear_model import LassoCV\n",
    "\n",
    "# We use the base estimator LassoCV since the L1 norm promotes sparsity of features.\n",
    "clf = LassoCV()"
   ]
  },
  {
   "cell_type": "code",
   "execution_count": 72,
   "metadata": {
    "collapsed": false
   },
   "outputs": [
    {
     "name": "stdout",
     "output_type": "stream",
     "text": [
      "(1000, 18)\n"
     ]
    },
    {
     "data": {
      "text/plain": [
       "18"
      ]
     },
     "execution_count": 72,
     "metadata": {},
     "output_type": "execute_result"
    }
   ],
   "source": [
    "# Set a minimum threshold of 0.25\n",
    "sfm = SelectFromModel(clf, threshold=0.25)\n",
    "\n",
    "sfm.fit(X,y)\n",
    "print sfm.transform(X).shape\n",
    "n_features = sfm.transform(X).shape[1]\n",
    "n_features"
   ]
  },
  {
   "cell_type": "code",
   "execution_count": 73,
   "metadata": {
    "collapsed": false
   },
   "outputs": [
    {
     "name": "stdout",
     "output_type": "stream",
     "text": [
      "0.25\n",
      "(1000, 18)\n",
      "0.35\n",
      "(1000, 17)\n",
      "0.45\n",
      "(1000, 14)\n",
      "0.55\n",
      "(1000, 8)\n",
      "0.65\n",
      "(1000, 6)\n",
      "0.75\n",
      "(1000, 5)\n"
     ]
    }
   ],
   "source": [
    "while n_features > 5:\n",
    "    print sfm.threshold\n",
    "    sfm.threshold += 0.1\n",
    "    X_transform = sfm.transform(X)\n",
    "    n_features = X_transform.shape[1]\n",
    "    print X_transform.shape"
   ]
  }
 ],
 "metadata": {
  "anaconda-cloud": {},
  "kernelspec": {
   "display_name": "Python [conda root]",
   "language": "python",
   "name": "conda-root-py"
  },
  "language_info": {
   "codemirror_mode": {
    "name": "ipython",
    "version": 2
   },
   "file_extension": ".py",
   "mimetype": "text/x-python",
   "name": "python",
   "nbconvert_exporter": "python",
   "pygments_lexer": "ipython2",
   "version": "2.7.12"
  }
 },
 "nbformat": 4,
 "nbformat_minor": 1
}
