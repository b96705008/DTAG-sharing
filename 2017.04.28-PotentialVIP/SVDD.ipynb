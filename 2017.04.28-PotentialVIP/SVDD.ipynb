{
 "cells": [
  {
   "cell_type": "code",
   "execution_count": 1,
   "metadata": {
    "collapsed": false
   },
   "outputs": [],
   "source": [
    "import pandas as pd\n",
    "import numpy as np\n",
    "from sklearn import svm, metrics\n",
    "from sklearn.model_selection import train_test_split\n",
    "from sklearn.ensemble import BaggingClassifier"
   ]
  },
  {
   "cell_type": "markdown",
   "metadata": {},
   "source": [
    "# 1. Data Preprocessing"
   ]
  },
  {
   "cell_type": "code",
   "execution_count": 2,
   "metadata": {
    "collapsed": false
   },
   "outputs": [],
   "source": [
    "data = pd.read_csv(\"data/svdd_data.csv\")"
   ]
  },
  {
   "cell_type": "code",
   "execution_count": 3,
   "metadata": {
    "collapsed": false
   },
   "outputs": [
    {
     "name": "stdout",
     "output_type": "stream",
     "text": [
      "VIP:(2000, 26) Non-VIP:(10000, 26)\n"
     ]
    }
   ],
   "source": [
    "## select which vip_index == 1 (VIP) and vip_index == 0 (Non-VIP)\n",
    "vip = data[data[\"vip_index\"] == 1]\n",
    "nvip = data[data[\"vip_index\"] == 0]\n",
    "print \"VIP:\" + str(vip.shape), \"Non-VIP:\" + str(nvip.shape)"
   ]
  },
  {
   "cell_type": "code",
   "execution_count": 4,
   "metadata": {
    "collapsed": false
   },
   "outputs": [],
   "source": [
    "## Sampling (Non-VIP 筆數 = VIP 筆數)\n",
    "nvip_sample = nvip.sample(n = vip.shape[0], replace = False)"
   ]
  },
  {
   "cell_type": "code",
   "execution_count": 5,
   "metadata": {
    "collapsed": false
   },
   "outputs": [],
   "source": [
    "## split X and Y\n",
    "vip_x = vip.drop(\"vip_index\", axis = 1).values\n",
    "vip_y = vip[\"vip_index\"].values\n",
    "nvip_x = nvip_sample.drop(\"vip_index\", axis = 1).values\n",
    "nvip_y = nvip_sample[\"vip_index\"].values"
   ]
  },
  {
   "cell_type": "code",
   "execution_count": 6,
   "metadata": {
    "collapsed": false
   },
   "outputs": [],
   "source": [
    "## split training data and testing data\n",
    "vip1_x, vip2_x, vip1_y, vip2_y = train_test_split(vip_x, vip_y, train_size = 0.5, random_state = 2017)"
   ]
  },
  {
   "cell_type": "markdown",
   "metadata": {},
   "source": [
    "# 2. Binary Class SVM"
   ]
  },
  {
   "cell_type": "code",
   "execution_count": 7,
   "metadata": {
    "collapsed": false
   },
   "outputs": [],
   "source": [
    "## training data and testing data\n",
    "train_x = np.concatenate((vip1_x, nvip_x), axis = 0)\n",
    "train_y = np.concatenate((vip1_y, nvip_y), axis = 0)\n",
    "test_x = vip2_x\n",
    "test_y = vip2_y"
   ]
  },
  {
   "cell_type": "code",
   "execution_count": 8,
   "metadata": {
    "collapsed": false
   },
   "outputs": [
    {
     "data": {
      "text/plain": [
       "SVC(C=1.0, cache_size=200, class_weight=None, coef0=0.0,\n",
       "  decision_function_shape=None, degree=3, gamma=0.005, kernel='rbf',\n",
       "  max_iter=-1, probability=False, random_state=None, shrinking=True,\n",
       "  tol=0.001, verbose=False)"
      ]
     },
     "execution_count": 8,
     "metadata": {},
     "output_type": "execute_result"
    }
   ],
   "source": [
    "## build model\n",
    "binary_model = svm.SVC(gamma = 0.005)\n",
    "binary_model.fit(train_x, train_y)"
   ]
  },
  {
   "cell_type": "code",
   "execution_count": 9,
   "metadata": {
    "collapsed": false
   },
   "outputs": [
    {
     "name": "stdout",
     "output_type": "stream",
     "text": [
      "training data accuracy: 0.840666666667\n",
      "testing data accuracy: 0.165\n"
     ]
    }
   ],
   "source": [
    "## predict\n",
    "print(\"training data accuracy: \" + str(metrics.accuracy_score(train_y, binary_model.predict(train_x))))\n",
    "print(\"testing data accuracy: \" + str(metrics.accuracy_score(test_y, binary_model.predict(test_x))))"
   ]
  },
  {
   "cell_type": "code",
   "execution_count": 10,
   "metadata": {
    "collapsed": false
   },
   "outputs": [
    {
     "data": {
      "text/plain": [
       "BaggingClassifier(base_estimator=SVC(C=1.0, cache_size=200, class_weight=None, coef0=0.0,\n",
       "  decision_function_shape=None, degree=3, gamma=0.005, kernel='rbf',\n",
       "  max_iter=-1, probability=False, random_state=None, shrinking=True,\n",
       "  tol=0.001, verbose=False),\n",
       "         bootstrap=True, bootstrap_features=False, max_features=1.0,\n",
       "         max_samples=1.0, n_estimators=10, n_jobs=1, oob_score=False,\n",
       "         random_state=2017, verbose=0, warm_start=False)"
      ]
     },
     "execution_count": 10,
     "metadata": {},
     "output_type": "execute_result"
    }
   ],
   "source": [
    "## build model by bagging \n",
    "## http://stackoverflow.com/questions/31681373/making-svm-run-faster-in-python\n",
    "bagging_model = BaggingClassifier(svm.SVC(gamma = 0.005), random_state = 2017)\n",
    "bagging_model.fit(train_x, train_y)"
   ]
  },
  {
   "cell_type": "code",
   "execution_count": 11,
   "metadata": {
    "collapsed": false
   },
   "outputs": [
    {
     "name": "stdout",
     "output_type": "stream",
     "text": [
      "training data accuracy: 0.819666666667\n",
      "testing data accuracy: 0.167\n"
     ]
    }
   ],
   "source": [
    "## predict\n",
    "print(\"training data accuracy: \" + str(metrics.accuracy_score(train_y, bagging_model.predict(train_x))))\n",
    "print(\"testing data accuracy: \" + str(metrics.accuracy_score(test_y, bagging_model.predict(test_x))))"
   ]
  },
  {
   "cell_type": "markdown",
   "metadata": {},
   "source": [
    "# 3. One Class SVM"
   ]
  },
  {
   "cell_type": "code",
   "execution_count": 12,
   "metadata": {
    "collapsed": false
   },
   "outputs": [],
   "source": [
    "## training data and testing data\n",
    "train_x = vip1_x\n",
    "train_y = vip1_y\n",
    "test_x = vip2_x\n",
    "test_y = vip2_y"
   ]
  },
  {
   "cell_type": "code",
   "execution_count": 13,
   "metadata": {
    "collapsed": false
   },
   "outputs": [
    {
     "data": {
      "text/plain": [
       "OneClassSVM(cache_size=200, coef0=0.0, degree=3, gamma=0.0005, kernel='rbf',\n",
       "      max_iter=-1, nu=0.1, random_state=None, shrinking=True, tol=0.001,\n",
       "      verbose=False)"
      ]
     },
     "execution_count": 13,
     "metadata": {},
     "output_type": "execute_result"
    }
   ],
   "source": [
    "## build model\n",
    "## https://thisdata.com/blog/unsupervised-machine-learning-with-one-class-support-vector-machines/\n",
    "one_model = svm.OneClassSVM(nu = 0.1, gamma = 0.0005)\n",
    "one_model.fit(train_x)"
   ]
  },
  {
   "cell_type": "code",
   "execution_count": 14,
   "metadata": {
    "collapsed": false
   },
   "outputs": [
    {
     "name": "stdout",
     "output_type": "stream",
     "text": [
      "training data accuracy: 0.897\n",
      "testing data accuracy: 0.882\n"
     ]
    }
   ],
   "source": [
    "## predict\n",
    "print(\"training data accuracy: \" + str(metrics.accuracy_score(train_y, one_model.predict(train_x))))\n",
    "print(\"testing data accuracy: \" + str(metrics.accuracy_score(test_y, one_model.predict(test_x))))"
   ]
  },
  {
   "cell_type": "code",
   "execution_count": 15,
   "metadata": {
    "collapsed": false
   },
   "outputs": [
    {
     "name": "stdout",
     "output_type": "stream",
     "text": [
      "9089\n",
      "10000\n"
     ]
    }
   ],
   "source": [
    "## predict potential vip\n",
    "nvip_data = nvip.drop(\"vip_index\", axis = 1).values\n",
    "potential_vip = one_model.predict(nvip_data)\n",
    "print len(potential_vip[np.where(potential_vip == 1)])\n",
    "print len(nvip_data)"
   ]
  },
  {
   "cell_type": "code",
   "execution_count": null,
   "metadata": {
    "collapsed": true
   },
   "outputs": [],
   "source": []
  }
 ],
 "metadata": {
  "anaconda-cloud": {},
  "kernelspec": {
   "display_name": "Python [conda root]",
   "language": "python",
   "name": "conda-root-py"
  },
  "language_info": {
   "codemirror_mode": {
    "name": "ipython",
    "version": 2
   },
   "file_extension": ".py",
   "mimetype": "text/x-python",
   "name": "python",
   "nbconvert_exporter": "python",
   "pygments_lexer": "ipython2",
   "version": "2.7.12"
  }
 },
 "nbformat": 4,
 "nbformat_minor": 1
}
