{
 "cells": [
  {
   "cell_type": "code",
   "execution_count": 1,
   "metadata": {
    "collapsed": true
   },
   "outputs": [],
   "source": [
    "from pymongo import MongoClient\n",
    "\n",
    "from worker import CollectionWorker"
   ]
  },
  {
   "cell_type": "code",
   "execution_count": 2,
   "metadata": {
    "collapsed": true
   },
   "outputs": [],
   "source": [
    "class MongoWorker(CollectionWorker):\n",
    "    def init_db(self):\n",
    "        super(MongoWorker, self).init_db()\n",
    "        \n",
    "        self.mongo = MongoClient()\n",
    "        \n",
    "    def insert(self, record):\n",
    "        self.mongo[\"customer\"][\"customer\"].insert_one(record)"
   ]
  },
  {
   "cell_type": "code",
   "execution_count": null,
   "metadata": {
    "collapsed": false
   },
   "outputs": [
    {
     "name": "stdout",
     "output_type": "stream",
     "text": [
      "insert {u'events': [[u'2017-04-17T02:00:00Z', u'\\u6843\\u5712\\u8b66\\u5bdf\\u5c40', u'\\u4fe1\\u7528\\u5361', u'\\u4ea4\\u4fdd'], [u'2017-04-17T05:10:00Z', u'\\u53f0\\u5317\\u5e02\\u653f\\u5e9c', u'ATM', u'\\u63d0\\u6b3e']]} into mongodb\n",
      "insert {u'events': [[u'2017-04-17T02:01:48Z', u'\\u5e02\\u653f\\u5e9c', u'\\u623f\\u8cb8', u'\\u6210\\u4ea4'], [u'2017-04-17T05:11:48Z', u'\\u5e02\\u653f\\u5e9c', u'\\u623f\\u8cb8', u'\\u89e3\\u7d04']]} into mongodb\n"
     ]
    }
   ],
   "source": [
    "mongo_worker = MongoWorker(topic=\"worker.mongo\")\n",
    "mongo_worker.init_requirements([\"mongo.profile\", \"mongo.assest\", \"mongo.event2\"])\n",
    "mongo_worker.init_db()\n",
    "\n",
    "mongo_worker.run()"
   ]
  },
  {
   "cell_type": "code",
   "execution_count": null,
   "metadata": {
    "collapsed": true
   },
   "outputs": [],
   "source": []
  }
 ],
 "metadata": {
  "kernelspec": {
   "display_name": "Python 2",
   "language": "python",
   "name": "python2"
  },
  "language_info": {
   "codemirror_mode": {
    "name": "ipython",
    "version": 2
   },
   "file_extension": ".py",
   "mimetype": "text/x-python",
   "name": "python",
   "nbconvert_exporter": "python",
   "pygments_lexer": "ipython2",
   "version": "2.7.13"
  }
 },
 "nbformat": 4,
 "nbformat_minor": 0
}
