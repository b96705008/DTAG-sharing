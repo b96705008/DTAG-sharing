{
 "cells": [
  {
   "cell_type": "code",
   "execution_count": 1,
   "metadata": {
    "collapsed": true
   },
   "outputs": [],
   "source": [
    "from worker import Worker"
   ]
  },
  {
   "cell_type": "code",
   "execution_count": 2,
   "metadata": {
    "collapsed": true
   },
   "outputs": [],
   "source": [
    "class ProfileWorker(Worker):\n",
    "    def init(self):\n",
    "        super(ProfileWorker, self).init()\n",
    "        \n",
    "        self.memory = {\"NT49115\": {\"name\": \"RC\", \"age\": 36, \"gender\": \"male\"},\n",
    "                       \"NT49000\": {\"name\": \"Miles\", \"age\": 31, \"gender\": \"male\"}}\n",
    "    \n",
    "    def process(self, request):\n",
    "        customer_id = request.get(\"customer_id\", None)\n",
    "        record = self.memory.get(customer_id, None)\n",
    "        \n",
    "        return record"
   ]
  },
  {
   "cell_type": "code",
   "execution_count": null,
   "metadata": {
    "collapsed": false
   },
   "outputs": [
    {
     "name": "stdout",
     "output_type": "stream",
     "text": [
      "send request to kafka(worker.mongo) with {'customer_id': u'NT49115', 'by': 'mongo.profile', 'ret': {'gender': 'male', 'age': 36, 'name': 'RC'}}\n",
      "send request to kafka(worker.mongo) with {'customer_id': u'NT49000', 'by': 'mongo.profile', 'ret': {'gender': 'male', 'age': 31, 'name': 'Miles'}}\n"
     ]
    }
   ],
   "source": [
    "worker = ProfileWorker(topic=\"worker.profile\")\n",
    "worker.run()"
   ]
  }
 ],
 "metadata": {
  "kernelspec": {
   "display_name": "Python 2",
   "language": "python",
   "name": "python2"
  },
  "language_info": {
   "codemirror_mode": {
    "name": "ipython",
    "version": 2
   },
   "file_extension": ".py",
   "mimetype": "text/x-python",
   "name": "python",
   "nbconvert_exporter": "python",
   "pygments_lexer": "ipython2",
   "version": "2.7.13"
  }
 },
 "nbformat": 4,
 "nbformat_minor": 0
}
