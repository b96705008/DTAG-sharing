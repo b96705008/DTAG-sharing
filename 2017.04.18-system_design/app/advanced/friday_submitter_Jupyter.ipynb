{
 "cells": [
  {
   "cell_type": "code",
   "execution_count": 1,
   "metadata": {
    "collapsed": true
   },
   "outputs": [],
   "source": [
    "import json\n",
    "\n",
    "from kafka import KafkaProducer"
   ]
  },
  {
   "cell_type": "code",
   "execution_count": 3,
   "metadata": {
    "collapsed": false
   },
   "outputs": [
    {
     "name": "stdout",
     "output_type": "stream",
     "text": [
      "submit {'final_output': 'mongo', 'customer_id': 'NT49115'} to the kafka broker by worker.profile\n",
      "submit {'final_output': 'mongo', 'customer_id': 'NT49115'} to the kafka broker by worker.assest\n",
      "submit {'final_output': 'mongo', 'workers': 'worker.event2', 'customer_id': 'NT49115'} to the kafka broker by worker.event1\n",
      "submit {'final_output': 'mongo', 'customer_id': 'NT49000'} to the kafka broker by worker.profile\n",
      "submit {'final_output': 'mongo', 'customer_id': 'NT49000'} to the kafka broker by worker.assest\n",
      "submit {'final_output': 'mongo', 'workers': 'worker.event2', 'customer_id': 'NT49000'} to the kafka broker by worker.event1\n"
     ]
    }
   ],
   "source": [
    "producer = KafkaProducer(bootstrap_servers=\"127.0.0.1:9092\")\n",
    "\n",
    "customers = {\"customer_id\": [\"NT49115\", \"NT49000\"], \n",
    "             \"workers\": [\"worker.profile\", \"worker.assest\", \"worker.event1|worker.event2\"],\n",
    "             \"final_output\": \"mongo\"}\n",
    "\n",
    "for customer_id in customers[\"customer_id\"]:\n",
    "    workers = customers[\"workers\"]\n",
    "    \n",
    "    request = {\"customer_id\": customer_id, \"final_output\": customers[\"final_output\"]} \n",
    "    for worker in workers:\n",
    "        sub_workers = worker.split(\"|\")\n",
    "        if len(sub_workers) == 1:\n",
    "\n",
    "            producer.send(sub_workers[0], json.dumps(request))\n",
    "            print \"submit {} to the kafka broker by {}\".format(request, sub_workers[0])\n",
    "        else:\n",
    "            request[\"workers\"] = \"|\".join(sub_workers[1:])\n",
    "            \n",
    "            producer.send(sub_workers[0], json.dumps(request))\n",
    "            print \"submit {} to the kafka broker by {}\".format(request, sub_workers[0])"
   ]
  },
  {
   "cell_type": "code",
   "execution_count": null,
   "metadata": {
    "collapsed": true
   },
   "outputs": [],
   "source": []
  }
 ],
 "metadata": {
  "kernelspec": {
   "display_name": "Python 2",
   "language": "python",
   "name": "python2"
  },
  "language_info": {
   "codemirror_mode": {
    "name": "ipython",
    "version": 2
   },
   "file_extension": ".py",
   "mimetype": "text/x-python",
   "name": "python",
   "nbconvert_exporter": "python",
   "pygments_lexer": "ipython2",
   "version": "2.7.13"
  }
 },
 "nbformat": 4,
 "nbformat_minor": 0
}
