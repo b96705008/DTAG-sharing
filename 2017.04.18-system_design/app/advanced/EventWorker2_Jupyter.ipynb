{
 "cells": [
  {
   "cell_type": "code",
   "execution_count": 1,
   "metadata": {
    "collapsed": true
   },
   "outputs": [],
   "source": [
    "from worker import Worker"
   ]
  },
  {
   "cell_type": "code",
   "execution_count": 2,
   "metadata": {
    "collapsed": true
   },
   "outputs": [],
   "source": [
    "class Event2Worker(Worker):\n",
    "    def init(self):\n",
    "        super(Event2Worker, self).init()\n",
    "        \n",
    "        self.memory = {\"NT49115\": [\"2017-04-17T05:10:00Z\", \"台北市政府\", \"ATM\", \"提款\"],\n",
    "                       \"NT49000\": [\"2017-04-17T05:11:48Z\", \"市政府\", \"房貸\", \"解約\"]}\n",
    "    \n",
    "    def process(self, request):\n",
    "        customer_id = request.get(\"customer_id\", None)\n",
    "        record = self.memory.get(customer_id, None)\n",
    "\n",
    "        return record"
   ]
  },
  {
   "cell_type": "code",
   "execution_count": null,
   "metadata": {
    "collapsed": false
   },
   "outputs": [
    {
     "name": "stdout",
     "output_type": "stream",
     "text": [
      "send request to kafka(worker.mongo) with {'customer_id': u'NT49115', 'by': 'mongo.event2', 'ret': {'events': [[u'2017-04-17T02:00:00Z', u'\\u6843\\u5712\\u8b66\\u5bdf\\u5c40', u'\\u4fe1\\u7528\\u5361', u'\\u4ea4\\u4fdd'], ['2017-04-17T05:10:00Z', '\\xe5\\x8f\\xb0\\xe5\\x8c\\x97\\xe5\\xb8\\x82\\xe6\\x94\\xbf\\xe5\\xba\\x9c', 'ATM', '\\xe6\\x8f\\x90\\xe6\\xac\\xbe']]}}\n",
      "send request to kafka(worker.mongo) with {'customer_id': u'NT49000', 'by': 'mongo.event2', 'ret': {'events': [[u'2017-04-17T02:01:48Z', u'\\u5e02\\u653f\\u5e9c', u'\\u623f\\u8cb8', u'\\u6210\\u4ea4'], ['2017-04-17T05:11:48Z', '\\xe5\\xb8\\x82\\xe6\\x94\\xbf\\xe5\\xba\\x9c', '\\xe6\\x88\\xbf\\xe8\\xb2\\xb8', '\\xe8\\xa7\\xa3\\xe7\\xb4\\x84']]}}\n"
     ]
    }
   ],
   "source": [
    "event2 = Event2Worker(topic=\"worker.event2\")\n",
    "event2.run()"
   ]
  }
 ],
 "metadata": {
  "kernelspec": {
   "display_name": "Python 2",
   "language": "python",
   "name": "python2"
  },
  "language_info": {
   "codemirror_mode": {
    "name": "ipython",
    "version": 2
   },
   "file_extension": ".py",
   "mimetype": "text/x-python",
   "name": "python",
   "nbconvert_exporter": "python",
   "pygments_lexer": "ipython2",
   "version": "2.7.13"
  }
 },
 "nbformat": 4,
 "nbformat_minor": 0
}
