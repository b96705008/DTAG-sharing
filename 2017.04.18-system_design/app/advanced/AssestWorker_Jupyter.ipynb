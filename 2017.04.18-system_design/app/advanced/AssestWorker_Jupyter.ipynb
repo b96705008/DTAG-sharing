{
 "cells": [
  {
   "cell_type": "code",
   "execution_count": 1,
   "metadata": {
    "collapsed": false
   },
   "outputs": [],
   "source": [
    "from worker import Worker"
   ]
  },
  {
   "cell_type": "code",
   "execution_count": 2,
   "metadata": {
    "collapsed": true
   },
   "outputs": [],
   "source": [
    "class AssestWorker(Worker):\n",
    "    def init(self):\n",
    "        super(AssestWorker, self).init()\n",
    "        \n",
    "        self.memory = {\"NT49115\": {\"stock\": 0, \"fund\": 10000, \"deposit\": 40000},\n",
    "                       \"NT49000\": {\"stock\": 1100, \"fund\": 23000, \"deposit\": 593912}}\n",
    "    \n",
    "    def process(self, request):\n",
    "        customer_id = request.get(\"customer_id\", None)\n",
    "        record = self.memory.get(customer_id, None)\n",
    "        \n",
    "        return {self.get_classname(): record}"
   ]
  },
  {
   "cell_type": "code",
   "execution_count": null,
   "metadata": {
    "collapsed": false
   },
   "outputs": [
    {
     "name": "stdout",
     "output_type": "stream",
     "text": [
      "send request to kafka(worker.mongo) with {'customer_id': u'NT49115', 'by': 'mongo.assest', 'ret': {'assest': {'fund': 10000, 'deposit': 40000, 'stock': 0}}}\n",
      "send request to kafka(worker.mongo) with {'customer_id': u'NT49000', 'by': 'mongo.assest', 'ret': {'assest': {'fund': 23000, 'deposit': 593912, 'stock': 1100}}}\n"
     ]
    }
   ],
   "source": [
    "worker = AssestWorker(\"worker.assest\")\n",
    "worker.run()"
   ]
  }
 ],
 "metadata": {
  "kernelspec": {
   "display_name": "Python 2",
   "language": "python",
   "name": "python2"
  },
  "language_info": {
   "codemirror_mode": {
    "name": "ipython",
    "version": 2
   },
   "file_extension": ".py",
   "mimetype": "text/x-python",
   "name": "python",
   "nbconvert_exporter": "python",
   "pygments_lexer": "ipython2",
   "version": "2.7.13"
  }
 },
 "nbformat": 4,
 "nbformat_minor": 0
}
