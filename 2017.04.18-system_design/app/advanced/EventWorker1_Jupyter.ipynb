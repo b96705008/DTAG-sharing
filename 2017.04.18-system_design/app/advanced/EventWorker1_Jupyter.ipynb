{
 "cells": [
  {
   "cell_type": "code",
   "execution_count": 1,
   "metadata": {
    "collapsed": true
   },
   "outputs": [],
   "source": [
    "from worker import Worker"
   ]
  },
  {
   "cell_type": "code",
   "execution_count": 2,
   "metadata": {
    "collapsed": false
   },
   "outputs": [],
   "source": [
    "class Event1Worker(Worker):\n",
    "    def init(self):\n",
    "        super(Event1Worker, self).init()\n",
    "        \n",
    "        self.memory = {\"NT49115\": [\"2017-04-17T02:00:00Z\", \"桃園警察局\", \"信用卡\", \"交保\"],\n",
    "                       \"NT49000\": [\"2017-04-17T02:01:48Z\", \"市政府\", \"房貸\", \"成交\"]}\n",
    "    \n",
    "    def process(self, request):\n",
    "        customer_id = request.get(\"customer_id\", None)\n",
    "        record = self.memory.get(customer_id, None)\n",
    "        \n",
    "        return record"
   ]
  },
  {
   "cell_type": "code",
   "execution_count": null,
   "metadata": {
    "collapsed": false
   },
   "outputs": [
    {
     "name": "stdout",
     "output_type": "stream",
     "text": [
      "pass the request to the next worker - worker.event2\n",
      "pass the request to the next worker - worker.event2\n"
     ]
    }
   ],
   "source": [
    "event1 = Event1Worker(topic=\"worker.event1\")\n",
    "event1.run()"
   ]
  },
  {
   "cell_type": "code",
   "execution_count": null,
   "metadata": {
    "collapsed": true
   },
   "outputs": [],
   "source": []
  }
 ],
 "metadata": {
  "kernelspec": {
   "display_name": "Python 2",
   "language": "python",
   "name": "python2"
  },
  "language_info": {
   "codemirror_mode": {
    "name": "ipython",
    "version": 2
   },
   "file_extension": ".py",
   "mimetype": "text/x-python",
   "name": "python",
   "nbconvert_exporter": "python",
   "pygments_lexer": "ipython2",
   "version": "2.7.13"
  }
 },
 "nbformat": 4,
 "nbformat_minor": 0
}
