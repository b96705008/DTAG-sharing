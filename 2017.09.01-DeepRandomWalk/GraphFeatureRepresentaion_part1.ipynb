{
 "cells": [
  {
   "cell_type": "code",
   "execution_count": 1,
   "metadata": {
    "collapsed": true
   },
   "outputs": [],
   "source": [
    "import os\n",
    "import sys\n",
    "import time\n",
    "\n",
    "import re\n",
    "import random\n",
    "import collections\n",
    "\n",
    "import numpy as np\n",
    "import networkx as nx\n",
    "import tensorflow as tf\n",
    "\n",
    "from sklearn.manifold import TSNE\n",
    "\n",
    "# To plot pretty figures\n",
    "%matplotlib inline\n",
    "import matplotlib\n",
    "import matplotlib.pyplot as plt\n",
    "plt.rcParams['axes.labelsize'] = 14\n",
    "plt.rcParams['xtick.labelsize'] = 12\n",
    "plt.rcParams['ytick.labelsize'] = 12"
   ]
  },
  {
   "cell_type": "code",
   "execution_count": 2,
   "metadata": {
    "collapsed": true
   },
   "outputs": [],
   "source": [
    "sep = \"\\t\"\n",
    "repeat_time = 2**(16-10)"
   ]
  },
  {
   "cell_type": "markdown",
   "metadata": {},
   "source": [
    "# 1.1 Build-up a Graph by networkx from event_relation.tsv"
   ]
  },
  {
   "cell_type": "code",
   "execution_count": 3,
   "metadata": {
    "collapsed": false
   },
   "outputs": [],
   "source": [
    "sep = \"\\t\"\n",
    "\n",
    "g = nx.Graph()\n",
    "with open(\"event_relation1.tsv\", \"rb\") as in_file:\n",
    "    in_file.next()\n",
    "    for line in in_file:\n",
    "        event, people = line.strip().split(sep)\n",
    "        people = people.split(\",\")\n",
    "        \n",
    "        for curr_idx in range(len(people)):\n",
    "            for next_idx in range(curr_idx+1, len(people)):\n",
    "                curr_person = people[curr_idx]\n",
    "                next_person = people[next_idx]\n",
    "                \n",
    "                if g.has_edge(curr_person, next_person):\n",
    "                    data = g.get_edge_data(curr_person, next_person)\n",
    "                    g.add_edge(curr_person, next_person, key=\"edge\", weight=data['weight']+1)\n",
    "                else:\n",
    "                    g.add_edge(curr_person, next_person, weight=1)"
   ]
  },
  {
   "cell_type": "markdown",
   "metadata": {},
   "source": [
    "# 1.3 Read Gruth-True Labals for People"
   ]
  },
  {
   "cell_type": "code",
   "execution_count": null,
   "metadata": {
    "collapsed": false
   },
   "outputs": [],
   "source": [
    "def read_label(filepath=\"people_label.txt\"):\n",
    "    labels = {}\n",
    "    \n",
    "    with open(filepath, \"rb\") as in_file:\n",
    "        for line in in_file:\n",
    "            people, label = line.strip().split(sep)\n",
    "            \n",
    "            labels[people] = int(label)*2.0\n",
    "            \n",
    "    return labels\n",
    "\n",
    "people_labels = read_label()"
   ]
  },
  {
   "cell_type": "raw",
   "metadata": {},
   "source": [
    "# [Node] [Class]\n",
    "================\n",
    "people_0273\t3\n",
    "people_0276\t5\n",
    "people_0277\t1\n",
    "people_0278\t0\n",
    "people_0279\t5\n",
    "people_0280\t1\n",
    "people_0281\t6\n",
    "people_0282\t5"
   ]
  },
  {
   "cell_type": "markdown",
   "metadata": {},
   "source": [
    "# 2.1 Apply Random Walk in Graph to describe the network"
   ]
  },
  {
   "cell_type": "code",
   "execution_count": 6,
   "metadata": {
    "collapsed": false
   },
   "outputs": [],
   "source": [
    "class RandomWalkInGraph(object):\n",
    "    def __init__(self, g, length=2**5):\n",
    "        self.network = g\n",
    "        self.length = length\n",
    "\n",
    "        self.probability = {}\n",
    "        '''\n",
    "        key, value\n",
    "        =======================\n",
    "        people_0001, [people_0010, people_0021, people_0003]\n",
    "        people_0001, [people_0010, people_0021, people_0003]\n",
    "        '''\n",
    "        \n",
    "        self.probability_to_next_vertex()\n",
    "        \n",
    "    def probability_to_next_vertex(self):\n",
    "        pass\n",
    "\n",
    "    def next_vertex(self, node_start):\n",
    "        '''\n",
    "        path = [people_0001, people_0004, people_0010...]\n",
    "        '''\n",
    "        path = [node_start]\n",
    "        \n",
    "        # TODO: ....\n",
    "        \n",
    "        return path\n",
    "\n",
    "    def random_walk(self):\n",
    "        nodes = self.network.nodes()\n",
    "        np.random.shuffle(nodes)\n",
    "        \n",
    "        for node_start in nodes:\n",
    "            yield self.next_vertex(node_start)"
   ]
  },
  {
   "cell_type": "code",
   "execution_count": null,
   "metadata": {
    "collapsed": false
   },
   "outputs": [],
   "source": [
    "words = []\n",
    "\n",
    "rkig = RandomWalkInGraph(g)\n",
    "\n",
    "timestamp_start = time.time()\n",
    "\n",
    "for idx in range(repeat_time):\n",
    "    for path in rkig.random_walk():\n",
    "        words.extend(path)\n",
    "    \n",
    "    if idx%(repeat_time/4) == 0:\n",
    "        timestamp_end = time.time()\n",
    "\n",
    "        print \"Iteration {:4d}| Spend {:.4f} seconds to add {} into the words\".format(idx+1, timestamp_end-timestamp_start, len(words))\n",
    "        \n",
    "        timestamp_start = timestamp_end\n",
    "        \n",
    "print \"The size of words is {}\".format(len(words))\n",
    "\n",
    "count = []\n",
    "count.extend(collections.Counter(words).most_common(len(set(g.nodes()))))\n",
    "vocabulary = []\n",
    "\n",
    "for word, c in sorted(count, key=lambda x: x[1], reverse=True):\n",
    "    vocabulary.append(word)\n",
    "\n",
    "print \"The size of vocabulary is {}\".format(len(vocabulary))"
   ]
  },
  {
   "cell_type": "markdown",
   "metadata": {},
   "source": [
    "# 3.1 Claim the Language Model with SKIPGRAM methodology"
   ]
  },
  {
   "cell_type": "code",
   "execution_count": 8,
   "metadata": {
    "collapsed": true
   },
   "outputs": [],
   "source": [
    "class Word2Vec(object):\n",
    "    SIZE_DICTIONARY = 2**16\n",
    "    \n",
    "    def __init__(self, words, \n",
    "                 method=\"skipgram\", num_sample=2, window_size=1, embed_dimension=2**8, num_negative_samples=64, \n",
    "                 validation_sample=16):\n",
    "        \n",
    "        self.method = method\n",
    "        self.num_sample = num_sample\n",
    "        self.window_size = window_size\n",
    "        \n",
    "        self.embed_dimension = embed_dimension\n",
    "        self.num_negative_samples = num_negative_samples\n",
    "        \n",
    "        self.dictionary = {}\n",
    "        self.reversed_dictionary = {}\n",
    "        \n",
    "        self.batch_idx = 0\n",
    "        self.training_dataset = []\n",
    "        \n",
    "        self.set_dictionaries(words)\n",
    "        self.set_training_dataset(words)\n",
    "        self.set_validation_dataset(validation_sample)\n",
    "        \n",
    "    def set_dictionaries(self, words):\n",
    "        count = []\n",
    "        \n",
    "        most_common = collections.Counter(words).most_common(self.SIZE_DICTIONARY-1)\n",
    "        for idx, (word, cc) in enumerate(most_common):\n",
    "            self.dictionary[word] = len(self.dictionary)\n",
    "            self.reversed_dictionary[self.dictionary[word]] = word\n",
    "            \n",
    "        print(\"The size of dictionary is {}\".format(len(self.dictionary)))\n",
    "            \n",
    "    def set_training_dataset(self, words):\n",
    "        for word in words:\n",
    "            self.training_dataset.append(self.dictionary[word])\n",
    "            \n",
    "        print(\"The shape of training dataset is {}\".format(len(self.training_dataset)))\n",
    "            \n",
    "    def set_validation_dataset(self, validation_sample):\n",
    "        self.validation_dataset = np.array(random.sample(range(64), validation_sample))\n",
    "            \n",
    "    def next_batch(self, batch_size):\n",
    "        assert batch_size%self.num_sample == 0\n",
    "        assert self.num_sample <= 2*self.window_size\n",
    "        \n",
    "        span = 1+2*self.window_size\n",
    "        \n",
    "        buffer = collections.deque(maxlen=span)\n",
    "        def move_on():\n",
    "            next_word = self.training_dataset[self.batch_idx]\n",
    "            buffer.append(next_word)\n",
    "            self.batch_idx = (self.batch_idx+1)%len(self.training_dataset)\n",
    "            \n",
    "        for _ in range(span):\n",
    "            move_on()\n",
    "            \n",
    "        datasets, labels = [], []\n",
    "        for idx in range(batch_size // self.num_sample):\n",
    "            target_word = self.window_size\n",
    "            context_word = target_word\n",
    "            context_words = [context_word]\n",
    "            \n",
    "            for _ in range(self.num_sample):\n",
    "                while context_word in context_words:\n",
    "                    context_word = np.random.randint(0, span)\n",
    "                context_words.append(context_word)\n",
    "                \n",
    "                datasets.append(buffer[target_word])\n",
    "                labels.append([buffer[context_word]])\n",
    "                \n",
    "            move_on()\n",
    "            \n",
    "        return np.array(datasets, dtype=np.int32), np.array(labels, dtype=np.int32)\n",
    "    \n",
    "    def train(self, learning_rate=1.0, batch_size=128, n_epoch=2**15, printing_epoch=2**12, top_k=8):\n",
    "        print(\"The size of vocabulary is {}, the dimension of embeddings is {}\".format(len(self.dictionary), self.embed_dimension))\n",
    "        print(\"The shape of validation dataset is {}\".format(len(self.validation_dataset)))\n",
    "        \n",
    "        tf.reset_default_graph()\n",
    "        \n",
    "        train_x = tf.placeholder(tf.int32, shape=[None])\n",
    "        train_y = tf.placeholder(tf.int32, shape=[None, 1])\n",
    "        validate_x = tf.constant(self.validation_dataset, dtype=np.int32)\n",
    "        \n",
    "        embeddings = tf.Variable(tf.random_uniform([len(self.dictionary), self.embed_dimension], -1.0, 1.0), dtype=tf.float32)\n",
    "        embeddings_x = tf.nn.embedding_lookup(embeddings, train_x)\n",
    "        \n",
    "        softmax_weights = tf.Variable(tf.truncated_normal([len(self.dictionary), self.embed_dimension], \n",
    "                                                          stddev=1.0 / np.sqrt(self.embed_dimension)))\n",
    "        softmax_biases = tf.Variable(tf.zeros([len(self.dictionary)]))\n",
    "        \n",
    "        sampled_softmax_loss = tf.nn.sampled_softmax_loss(weights=softmax_weights, \n",
    "                                                          biases=softmax_biases, \n",
    "                                                          inputs=embeddings_x,\n",
    "                                                          labels=train_y, \n",
    "                                                          num_sampled=self.num_negative_samples, \n",
    "                                                          num_classes=len(self.dictionary))\n",
    "        loss = tf.reduce_mean(sampled_softmax_loss)\n",
    "        \n",
    "        optimizer = tf.train.AdagradOptimizer(learning_rate).minimize(loss)\n",
    "        \n",
    "        norm = tf.sqrt(tf.reduce_sum(tf.square(embeddings), 1, keep_dims=True))\n",
    "        norm_embeddings = embeddings / norm\n",
    "        \n",
    "        embeddings_validation = tf.nn.embedding_lookup(norm_embeddings, validate_x)\n",
    "        similarity = tf.matmul(embeddings_validation, tf.transpose(norm_embeddings))\n",
    "        \n",
    "        with tf.Session() as sess:\n",
    "            sess.run(tf.global_variables_initializer())\n",
    "            \n",
    "            average_loss = 0.0\n",
    "            timestamp_start = time.time()\n",
    "            for epoch in range(n_epoch):\n",
    "                batch_x, batch_y = self.next_batch(batch_size)\n",
    "                fd = {train_x: batch_x, train_y: batch_y}\n",
    "\n",
    "                _, l = sess.run([optimizer, loss], feed_dict=fd)\n",
    "                average_loss += l\n",
    "                \n",
    "                if epoch > 0 and (epoch == n_epoch-1 or epoch%printing_epoch == 0):\n",
    "                    timestamp_end = time.time()\n",
    "                    \n",
    "                    print(\"Epoch {:5d}| seconds: {:3.2f}, average_loss: {:2.12f}\".\\\n",
    "                          format(epoch, timestamp_end-timestamp_start, average_loss/printing_epoch))\n",
    "                    \n",
    "                    timestamp_start = timestamp_end\n",
    "                    average_loss = 0.0\n",
    "        \n",
    "                if epoch > 0 and (epoch==n_epoch-1 or epoch%(printing_epoch*4) == 0):\n",
    "                    sim = similarity.eval()\n",
    "                    for idx, word in enumerate(self.validation_dataset):\n",
    "                        validation_word = self.reversed_dictionary[word]\n",
    "                        nearest = (-sim[idx, :]).argsort()[1:top_k+1]\n",
    "                        log = \"Nearest to {}:\".format(validation_word)\n",
    "\n",
    "                        for k in range(top_k):\n",
    "                            close_word = self.reversed_dictionary[nearest[k]]\n",
    "                            log = \"{} {},\".format(log, close_word)\n",
    "                        \n",
    "                        print(log)\n",
    "                        \n",
    "            self.embeddings = embeddings.eval()\n",
    "            self.normalized_embeddings = norm_embeddings.eval()"
   ]
  },
  {
   "cell_type": "code",
   "execution_count": null,
   "metadata": {
    "collapsed": false
   },
   "outputs": [],
   "source": [
    "word2vec = Word2Vec(words, num_sample=2, window_size=1, embed_dimension=2**8)\n",
    "word2vec.train(learning_rate=1.0, n_epoch=2**16, printing_epoch=2**12, top_k=4)"
   ]
  },
  {
   "cell_type": "code",
   "execution_count": 14,
   "metadata": {
    "collapsed": false
   },
   "outputs": [],
   "source": [
    "class VisualizeEmbeddings(object):\n",
    "    def __init__(self):\n",
    "        pass\n",
    "    \n",
    "    def cluster_embeddings(self, counts, embeddings, \n",
    "                           method=TSNE(perplexity=30, n_components=2, init='pca', n_iter=2**14), \n",
    "                           plot_only=2**9):        \n",
    "        low_dim_embs = method.fit_transform(embeddings[:plot_only,:])\n",
    "        labels = [counts[i] for i in range(plot_only)]\n",
    "        \n",
    "        self.plot_embeddings(low_dim_embs, labels)\n",
    "    \n",
    "    def plot_embeddings(self, low_dim_embs, labels):\n",
    "        global people_labels\n",
    "        \n",
    "        assert low_dim_embs.shape[0] >= len(labels), \"More labels than embeddings\"\n",
    "        \n",
    "        plt.figure(figsize=(18, 18))\n",
    "        for i, label in enumerate(labels):\n",
    "            x, y = low_dim_embs[i,:]\n",
    "            plt.annotate(label[7:],\n",
    "                         xy=(x, y),\n",
    "                         xytext=(5, 2),\n",
    "                         textcoords='offset points',\n",
    "                         ha='right',\n",
    "                         va='bottom')\n",
    "        \n",
    "        plt.scatter(low_dim_embs[:,0], low_dim_embs[:,1], c=[people_labels[label] for label in labels])\n",
    "        \n",
    "        plt.colorbar()\n",
    "        plt.grid()"
   ]
  },
  {
   "cell_type": "code",
   "execution_count": null,
   "metadata": {
    "collapsed": false
   },
   "outputs": [],
   "source": [
    "v = VisualizeEmbeddings()\n",
    "v.cluster_embeddings(vocabulary, word2vec.normalized_embeddings, plot_only=len(vocabulary)) "
   ]
  },
  {
   "cell_type": "code",
   "execution_count": null,
   "metadata": {
    "collapsed": true
   },
   "outputs": [],
   "source": []
  }
 ],
 "metadata": {
  "kernelspec": {
   "display_name": "Python 2",
   "language": "python",
   "name": "python2"
  },
  "language_info": {
   "codemirror_mode": {
    "name": "ipython",
    "version": 2
   },
   "file_extension": ".py",
   "mimetype": "text/x-python",
   "name": "python",
   "nbconvert_exporter": "python",
   "pygments_lexer": "ipython2",
   "version": "2.7.13"
  }
 },
 "nbformat": 4,
 "nbformat_minor": 0
}
